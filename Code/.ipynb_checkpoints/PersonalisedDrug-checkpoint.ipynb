{
 "cells": [
  {
   "cell_type": "code",
   "execution_count": 1,
   "metadata": {},
   "outputs": [],
   "source": [
    "import pandas as pd\n",
    "import numpy as np\n",
    "import matplotlib.pyplot as plt"
   ]
  },
  {
   "cell_type": "code",
   "execution_count": 2,
   "metadata": {},
   "outputs": [],
   "source": [
    "# !pip3 install xlrd"
   ]
  },
  {
   "cell_type": "markdown",
   "metadata": {},
   "source": [
    "# Using MYSQL database to incorporate scalability and database load distribution"
   ]
  },
  {
   "cell_type": "code",
   "execution_count": 2,
   "metadata": {},
   "outputs": [],
   "source": [
    "import os\n",
    "import pymysql"
   ]
  },
  {
   "cell_type": "code",
   "execution_count": 3,
   "metadata": {},
   "outputs": [],
   "source": [
    "pymysql.install_as_MySQLdb()"
   ]
  },
  {
   "cell_type": "code",
   "execution_count": 4,
   "metadata": {},
   "outputs": [],
   "source": [
    "import MySQLdb"
   ]
  },
  {
   "cell_type": "code",
   "execution_count": 5,
   "metadata": {},
   "outputs": [],
   "source": [
    "#Establishing connection with mysql server\n",
    "db = MySQLdb.connect(user=\"root\",passwd=\"pass\",host=\"172.17.0.2\",port=3306,db=\"AppliedML\")\n",
    "# cursor = db.cursor()\n",
    "# cursor.execute(\"SELECT * FROM AppliedML.EDA_ML;\")\n",
    "# data=cursor.fetchall()\n",
    "# for row in data :\n",
    "#     print (row)\n",
    "# db.close()"
   ]
  },
  {
   "cell_type": "markdown",
   "metadata": {},
   "source": [
    "# Reading data from mysql database \n",
    "# Tool used as an interface to connect with mysql database : Workbench"
   ]
  },
  {
   "cell_type": "code",
   "execution_count": 6,
   "metadata": {},
   "outputs": [],
   "source": [
    "# #########################################################input_data_EDA = pd.read_excel(\"EDA_ML.xlsx\")\n",
    "input_data_EDA = pd.read_sql_query(\"SELECT * FROM AppliedML.EDA_ML\",db)"
   ]
  },
  {
   "cell_type": "code",
   "execution_count": 7,
   "metadata": {},
   "outputs": [
    {
     "data": {
      "text/html": [
       "<div>\n",
       "<style scoped>\n",
       "    .dataframe tbody tr th:only-of-type {\n",
       "        vertical-align: middle;\n",
       "    }\n",
       "\n",
       "    .dataframe tbody tr th {\n",
       "        vertical-align: top;\n",
       "    }\n",
       "\n",
       "    .dataframe thead th {\n",
       "        text-align: right;\n",
       "    }\n",
       "</style>\n",
       "<table border=\"1\" class=\"dataframe\">\n",
       "  <thead>\n",
       "    <tr style=\"text-align: right;\">\n",
       "      <th></th>\n",
       "      <th>id</th>\n",
       "      <th>drugName</th>\n",
       "      <th>condition</th>\n",
       "      <th>review</th>\n",
       "      <th>rating</th>\n",
       "      <th>date_spec</th>\n",
       "      <th>usefulCount</th>\n",
       "      <th>no</th>\n",
       "    </tr>\n",
       "  </thead>\n",
       "  <tbody>\n",
       "    <tr>\n",
       "      <th>0</th>\n",
       "      <td>206461</td>\n",
       "      <td>Valsartan</td>\n",
       "      <td>Left Ventricular Dysfunction</td>\n",
       "      <td>It has no side effect, I take it in combinati...</td>\n",
       "      <td>9</td>\n",
       "      <td>May 20, 2012</td>\n",
       "      <td>27</td>\n",
       "      <td></td>\n",
       "    </tr>\n",
       "    <tr>\n",
       "      <th>1</th>\n",
       "      <td>95260</td>\n",
       "      <td>Guanfacine</td>\n",
       "      <td>ADHD</td>\n",
       "      <td>My son is halfway through his fourth week of ...</td>\n",
       "      <td>8</td>\n",
       "      <td>April 27, 2010</td>\n",
       "      <td>192</td>\n",
       "      <td></td>\n",
       "    </tr>\n",
       "    <tr>\n",
       "      <th>2</th>\n",
       "      <td>92703</td>\n",
       "      <td>Lybrel</td>\n",
       "      <td>Birth Control</td>\n",
       "      <td>I used to take another oral contraceptive, wh...</td>\n",
       "      <td>5</td>\n",
       "      <td>December 14, 2009</td>\n",
       "      <td>17</td>\n",
       "      <td></td>\n",
       "    </tr>\n",
       "    <tr>\n",
       "      <th>3</th>\n",
       "      <td>138000</td>\n",
       "      <td>Ortho Evra</td>\n",
       "      <td>Birth Control</td>\n",
       "      <td>This is my first time using any form of birth...</td>\n",
       "      <td>8</td>\n",
       "      <td>November 3, 2015</td>\n",
       "      <td>10</td>\n",
       "      <td></td>\n",
       "    </tr>\n",
       "    <tr>\n",
       "      <th>4</th>\n",
       "      <td>35696</td>\n",
       "      <td>Buprenorphine / naloxone</td>\n",
       "      <td>Opiate Dependence</td>\n",
       "      <td>Suboxone has completely turned my life around...</td>\n",
       "      <td>9</td>\n",
       "      <td>November 27, 2016</td>\n",
       "      <td>37</td>\n",
       "      <td></td>\n",
       "    </tr>\n",
       "  </tbody>\n",
       "</table>\n",
       "</div>"
      ],
      "text/plain": [
       "       id                  drugName                     condition  \\\n",
       "0  206461                 Valsartan  Left Ventricular Dysfunction   \n",
       "1   95260                Guanfacine                          ADHD   \n",
       "2   92703                    Lybrel                 Birth Control   \n",
       "3  138000                Ortho Evra                 Birth Control   \n",
       "4   35696  Buprenorphine / naloxone             Opiate Dependence   \n",
       "\n",
       "                                              review  rating  \\\n",
       "0   It has no side effect, I take it in combinati...       9   \n",
       "1   My son is halfway through his fourth week of ...       8   \n",
       "2   I used to take another oral contraceptive, wh...       5   \n",
       "3   This is my first time using any form of birth...       8   \n",
       "4   Suboxone has completely turned my life around...       9   \n",
       "\n",
       "           date_spec  usefulCount no  \n",
       "0       May 20, 2012           27     \n",
       "1     April 27, 2010          192     \n",
       "2  December 14, 2009           17     \n",
       "3   November 3, 2015           10     \n",
       "4  November 27, 2016           37     "
      ]
     },
     "execution_count": 7,
     "metadata": {},
     "output_type": "execute_result"
    }
   ],
   "source": [
    "input_data_EDA.head()"
   ]
  },
  {
   "cell_type": "code",
   "execution_count": 8,
   "metadata": {},
   "outputs": [
    {
     "data": {
      "text/plain": [
       "(161297, 8)"
      ]
     },
     "execution_count": 8,
     "metadata": {},
     "output_type": "execute_result"
    }
   ],
   "source": [
    "input_data_EDA.shape\n",
    "# !pip3 install nltk"
   ]
  },
  {
   "cell_type": "code",
   "execution_count": 9,
   "metadata": {},
   "outputs": [],
   "source": [
    "import nltk\n",
    "from nltk.tokenize import word_tokenize\n",
    "\n",
    "male_comterms = ['son', 'husband', 'father', 'dad', 'male' ] #words in comments indicating male\n",
    "male_diseaseterms = ['prostate', 'erectile', 'penis', 'penile', 'testicular', 'testicle']\n",
    "female_comterms = ['daughter', 'wife', 'mother', 'mom', 'female']\n",
    "female_diseaseterms = ['abortion', 'breas', 'birth', 'prenatal', 'postnatal', 'contraception', 'contraceptive', 'vagina', 'ovary', 'ovarian', 'pcos']\n",
    "conditions_chosen_male = ['testi', 'prostate', 'erecti']\n",
    "conditions_chosen_female = ['pelvic', 'menstrual', 'vulvodynia', 'vaginal']"
   ]
  },
  {
   "cell_type": "code",
   "execution_count": 6,
   "metadata": {},
   "outputs": [],
   "source": [
    "# input_data_EDA.dropna(axis=\"columns\", how=\"all\")\n",
    "# input_data_EDA.dropna(axis=\"columns\", thresh=len(input_data_EDA)-1000, inplace=True)"
   ]
  },
  {
   "cell_type": "code",
   "execution_count": 11,
   "metadata": {},
   "outputs": [],
   "source": [
    "input_data_EDA.drop(['id','no'],axis=1,inplace=True)"
   ]
  },
  {
   "cell_type": "code",
   "execution_count": 12,
   "metadata": {},
   "outputs": [
    {
     "data": {
      "text/plain": [
       "drugName       0\n",
       "condition      0\n",
       "review         0\n",
       "rating         0\n",
       "date_spec      0\n",
       "usefulCount    0\n",
       "dtype: int64"
      ]
     },
     "execution_count": 12,
     "metadata": {},
     "output_type": "execute_result"
    }
   ],
   "source": [
    "input_data_EDA.isnull().sum()"
   ]
  },
  {
   "cell_type": "code",
   "execution_count": 15,
   "metadata": {},
   "outputs": [],
   "source": [
    "# Since using mysql database to store and retrieve data Null values would be handled in mysql database so the below statement wont be required\n",
    "# input_data_EDA.dropna(axis=\"columns\", thresh=len(input_data_EDA)-1000, inplace=True)\n",
    "# input_data_EDA.dropna(inplace=True)"
   ]
  },
  {
   "cell_type": "code",
   "execution_count": 16,
   "metadata": {},
   "outputs": [],
   "source": [
    "def label_sex(tokenized_words):\n",
    "        if any(elem in tokenized_words for elem in male_comterms):\n",
    "            return \"Male\"\n",
    "        if any(elem in tokenized_words for elem in male_diseaseterms):\n",
    "            return \"Male\"\n",
    "        if any(elem in tokenized_words for elem in conditions_chosen_male):\n",
    "            return \"Male\"\n",
    "        if any(elem in tokenized_words for elem in female_comterms):\n",
    "            return \"Female\"\n",
    "        if any(elem in tokenized_words for elem in female_diseaseterms):\n",
    "            return \"Female\"\n",
    "        if any(elem in tokenized_words for elem in conditions_chosen_female):\n",
    "            return \"Female\"\n",
    "        else:\n",
    "            return \"Neutral\""
   ]
  },
  {
   "cell_type": "code",
   "execution_count": 17,
   "metadata": {},
   "outputs": [
    {
     "data": {
      "text/html": [
       "<div>\n",
       "<style scoped>\n",
       "    .dataframe tbody tr th:only-of-type {\n",
       "        vertical-align: middle;\n",
       "    }\n",
       "\n",
       "    .dataframe tbody tr th {\n",
       "        vertical-align: top;\n",
       "    }\n",
       "\n",
       "    .dataframe thead th {\n",
       "        text-align: right;\n",
       "    }\n",
       "</style>\n",
       "<table border=\"1\" class=\"dataframe\">\n",
       "  <thead>\n",
       "    <tr style=\"text-align: right;\">\n",
       "      <th></th>\n",
       "      <th>drugName</th>\n",
       "      <th>condition</th>\n",
       "      <th>review</th>\n",
       "      <th>rating</th>\n",
       "      <th>date_spec</th>\n",
       "      <th>usefulCount</th>\n",
       "      <th>sex</th>\n",
       "    </tr>\n",
       "  </thead>\n",
       "  <tbody>\n",
       "    <tr>\n",
       "      <th>0</th>\n",
       "      <td>Valsartan</td>\n",
       "      <td>Left Ventricular Dysfunction</td>\n",
       "      <td>It has no side effect, I take it in combinati...</td>\n",
       "      <td>9</td>\n",
       "      <td>May 20, 2012</td>\n",
       "      <td>27</td>\n",
       "      <td>Neutral</td>\n",
       "    </tr>\n",
       "    <tr>\n",
       "      <th>1</th>\n",
       "      <td>Guanfacine</td>\n",
       "      <td>ADHD</td>\n",
       "      <td>My son is halfway through his fourth week of ...</td>\n",
       "      <td>8</td>\n",
       "      <td>April 27, 2010</td>\n",
       "      <td>192</td>\n",
       "      <td>Neutral</td>\n",
       "    </tr>\n",
       "    <tr>\n",
       "      <th>2</th>\n",
       "      <td>Lybrel</td>\n",
       "      <td>Birth Control</td>\n",
       "      <td>I used to take another oral contraceptive, wh...</td>\n",
       "      <td>5</td>\n",
       "      <td>December 14, 2009</td>\n",
       "      <td>17</td>\n",
       "      <td>Female</td>\n",
       "    </tr>\n",
       "    <tr>\n",
       "      <th>3</th>\n",
       "      <td>Ortho Evra</td>\n",
       "      <td>Birth Control</td>\n",
       "      <td>This is my first time using any form of birth...</td>\n",
       "      <td>8</td>\n",
       "      <td>November 3, 2015</td>\n",
       "      <td>10</td>\n",
       "      <td>Female</td>\n",
       "    </tr>\n",
       "    <tr>\n",
       "      <th>4</th>\n",
       "      <td>Buprenorphine / naloxone</td>\n",
       "      <td>Opiate Dependence</td>\n",
       "      <td>Suboxone has completely turned my life around...</td>\n",
       "      <td>9</td>\n",
       "      <td>November 27, 2016</td>\n",
       "      <td>37</td>\n",
       "      <td>Neutral</td>\n",
       "    </tr>\n",
       "  </tbody>\n",
       "</table>\n",
       "</div>"
      ],
      "text/plain": [
       "                   drugName                     condition  \\\n",
       "0                 Valsartan  Left Ventricular Dysfunction   \n",
       "1                Guanfacine                          ADHD   \n",
       "2                    Lybrel                 Birth Control   \n",
       "3                Ortho Evra                 Birth Control   \n",
       "4  Buprenorphine / naloxone             Opiate Dependence   \n",
       "\n",
       "                                              review  rating  \\\n",
       "0   It has no side effect, I take it in combinati...       9   \n",
       "1   My son is halfway through his fourth week of ...       8   \n",
       "2   I used to take another oral contraceptive, wh...       5   \n",
       "3   This is my first time using any form of birth...       8   \n",
       "4   Suboxone has completely turned my life around...       9   \n",
       "\n",
       "           date_spec  usefulCount      sex  \n",
       "0       May 20, 2012           27  Neutral  \n",
       "1     April 27, 2010          192  Neutral  \n",
       "2  December 14, 2009           17   Female  \n",
       "3   November 3, 2015           10   Female  \n",
       "4  November 27, 2016           37  Neutral  "
      ]
     },
     "execution_count": 17,
     "metadata": {},
     "output_type": "execute_result"
    }
   ],
   "source": [
    "result = []\n",
    "result_cond = []\n",
    "for comment in input_data_EDA.review:\n",
    "    words = word_tokenize(comment.lower())\n",
    "    result.append(label_sex(words))\n",
    "\n",
    "for cond in input_data_EDA.condition:\n",
    "    cond_words = word_tokenize(cond.lower())\n",
    "    result_cond.append(label_sex(cond_words))\n",
    "\n",
    "# final_result = [int(i==j) for i, j in zip(result, result_cond)]\n",
    "# final_result = [i for i in result if i not in result_cond]\n",
    "# result, result_cond\n",
    "# final_result\n",
    "\n",
    "final_result = [i if i==j else j for i,j in zip(result, result_cond)]\n",
    "\n",
    "input_data_EDA.loc[(input_data_EDA.review.index),'sex'] = final_result\n",
    "input_data_EDA.head()\n"
   ]
  },
  {
   "cell_type": "code",
   "execution_count": 19,
   "metadata": {},
   "outputs": [
    {
     "data": {
      "text/plain": [
       "Neutral    125125\n",
       "Female      34457\n",
       "Male         1715\n",
       "Name: sex, dtype: int64"
      ]
     },
     "execution_count": 19,
     "metadata": {},
     "output_type": "execute_result"
    }
   ],
   "source": [
    "input_data_EDA.sex.value_counts()"
   ]
  },
  {
   "cell_type": "code",
   "execution_count": 21,
   "metadata": {},
   "outputs": [],
   "source": [
    "chosen_drugs = input_data_EDA[input_data_EDA.drugName.isin(['Levonorgestrel', 'Etonogestrel', 'Phentermine', 'Sertraline', 'Gabapentin', 'Miconazole', 'Bupropion', 'Metronidazole', 'Clonazepam', 'Quetiapine'])]"
   ]
  },
  {
   "cell_type": "code",
   "execution_count": 23,
   "metadata": {},
   "outputs": [
    {
     "data": {
      "text/plain": [
       "Levonorgestrel    3657\n",
       "Etonogestrel      3336\n",
       "Phentermine       1543\n",
       "Sertraline        1360\n",
       "Gabapentin        1047\n",
       "Bupropion         1022\n",
       "Miconazole        1000\n",
       "Metronidazole      922\n",
       "Quetiapine         831\n",
       "Clonazepam         831\n",
       "Name: drugName, dtype: int64"
      ]
     },
     "execution_count": 23,
     "metadata": {},
     "output_type": "execute_result"
    }
   ],
   "source": [
    "# chosen_drugs.shape\n",
    "chosen_drugs.drugName.value_counts() #final selected drug dataset with no NaNs."
   ]
  },
  {
   "cell_type": "code",
   "execution_count": 24,
   "metadata": {},
   "outputs": [],
   "source": [
    "#Saving the data formatted so as to avoid rerunning the formatting step again and again\n",
    "import pickle"
   ]
  },
  {
   "cell_type": "code",
   "execution_count": 25,
   "metadata": {},
   "outputs": [],
   "source": [
    "save_formatted_Data = open(\"formatted_drug_Data.pickle\",\"wb\")#wb = write in bytes for Python 3 and above\n",
    "pickle.dump(chosen_drugs,save_formatted_Data)\n",
    "save_formatted_Data.close()"
   ]
  },
  {
   "cell_type": "code",
   "execution_count": 26,
   "metadata": {},
   "outputs": [],
   "source": [
    "#Plotting for a parituclar drugName the performance over time\n",
    "import matplotlib.pyplot as plt\n",
    "from matplotlib import style\n",
    "style.use('ggplot')\n",
    "from sklearn.cluster import KMeans\n",
    "from sklearn import preprocessing"
   ]
  },
  {
   "cell_type": "code",
   "execution_count": 27,
   "metadata": {},
   "outputs": [
    {
     "data": {
      "text/html": [
       "<div>\n",
       "<style scoped>\n",
       "    .dataframe tbody tr th:only-of-type {\n",
       "        vertical-align: middle;\n",
       "    }\n",
       "\n",
       "    .dataframe tbody tr th {\n",
       "        vertical-align: top;\n",
       "    }\n",
       "\n",
       "    .dataframe thead th {\n",
       "        text-align: right;\n",
       "    }\n",
       "</style>\n",
       "<table border=\"1\" class=\"dataframe\">\n",
       "  <thead>\n",
       "    <tr style=\"text-align: right;\">\n",
       "      <th></th>\n",
       "      <th>drugName</th>\n",
       "      <th>condition</th>\n",
       "      <th>rating</th>\n",
       "      <th>date_spec</th>\n",
       "      <th>usefulCount</th>\n",
       "      <th>sex</th>\n",
       "    </tr>\n",
       "  </thead>\n",
       "  <tbody>\n",
       "    <tr>\n",
       "      <th>6</th>\n",
       "      <td>Levonorgestrel</td>\n",
       "      <td>Emergency Contraception</td>\n",
       "      <td>1</td>\n",
       "      <td>March 7, 2017</td>\n",
       "      <td>5</td>\n",
       "      <td>Female</td>\n",
       "    </tr>\n",
       "    <tr>\n",
       "      <th>22</th>\n",
       "      <td>Etonogestrel</td>\n",
       "      <td>Birth Control</td>\n",
       "      <td>9</td>\n",
       "      <td>August 11, 2014</td>\n",
       "      <td>11</td>\n",
       "      <td>Female</td>\n",
       "    </tr>\n",
       "    <tr>\n",
       "      <th>31</th>\n",
       "      <td>Sertraline</td>\n",
       "      <td>Depression</td>\n",
       "      <td>8</td>\n",
       "      <td>May 7, 2011</td>\n",
       "      <td>3</td>\n",
       "      <td>Neutral</td>\n",
       "    </tr>\n",
       "    <tr>\n",
       "      <th>42</th>\n",
       "      <td>Clonazepam</td>\n",
       "      <td>Panic Disorde</td>\n",
       "      <td>9</td>\n",
       "      <td>April 1, 2008</td>\n",
       "      <td>30</td>\n",
       "      <td>Neutral</td>\n",
       "    </tr>\n",
       "    <tr>\n",
       "      <th>58</th>\n",
       "      <td>Bupropion</td>\n",
       "      <td>Smoking Cessation</td>\n",
       "      <td>10</td>\n",
       "      <td>August 22, 2014</td>\n",
       "      <td>15</td>\n",
       "      <td>Neutral</td>\n",
       "    </tr>\n",
       "  </tbody>\n",
       "</table>\n",
       "</div>"
      ],
      "text/plain": [
       "          drugName                condition  rating        date_spec  \\\n",
       "6   Levonorgestrel  Emergency Contraception       1    March 7, 2017   \n",
       "22    Etonogestrel            Birth Control       9  August 11, 2014   \n",
       "31      Sertraline               Depression       8      May 7, 2011   \n",
       "42      Clonazepam            Panic Disorde       9    April 1, 2008   \n",
       "58       Bupropion        Smoking Cessation      10  August 22, 2014   \n",
       "\n",
       "    usefulCount      sex  \n",
       "6             5   Female  \n",
       "22           11   Female  \n",
       "31            3  Neutral  \n",
       "42           30  Neutral  \n",
       "58           15  Neutral  "
      ]
     },
     "execution_count": 27,
     "metadata": {},
     "output_type": "execute_result"
    }
   ],
   "source": [
    "chosen_drugs_noreview = chosen_drugs.drop([\"review\"],1)\n",
    "chosen_drugs_noreview.head()"
   ]
  },
  {
   "cell_type": "code",
   "execution_count": 28,
   "metadata": {},
   "outputs": [
    {
     "data": {
      "text/plain": [
       "drugName       object\n",
       "condition      object\n",
       "rating          int64\n",
       "date_spec      object\n",
       "usefulCount     int64\n",
       "sex            object\n",
       "dtype: object"
      ]
     },
     "execution_count": 28,
     "metadata": {},
     "output_type": "execute_result"
    }
   ],
   "source": [
    "chosen_drugs_noreview.dtypes"
   ]
  },
  {
   "cell_type": "code",
   "execution_count": 31,
   "metadata": {},
   "outputs": [],
   "source": [
    "chosen_drugs_noreview['date_spec'] = pd.to_datetime(chosen_drugs_noreview.date_spec)"
   ]
  },
  {
   "cell_type": "code",
   "execution_count": 32,
   "metadata": {},
   "outputs": [
    {
     "data": {
      "text/plain": [
       "drugName               object\n",
       "condition              object\n",
       "rating                  int64\n",
       "date_spec      datetime64[ns]\n",
       "usefulCount             int64\n",
       "sex                    object\n",
       "dtype: object"
      ]
     },
     "execution_count": 32,
     "metadata": {},
     "output_type": "execute_result"
    }
   ],
   "source": [
    "chosen_drugs_noreview.dtypes"
   ]
  },
  {
   "cell_type": "code",
   "execution_count": 33,
   "metadata": {},
   "outputs": [
    {
     "data": {
      "text/html": [
       "<div>\n",
       "<style scoped>\n",
       "    .dataframe tbody tr th:only-of-type {\n",
       "        vertical-align: middle;\n",
       "    }\n",
       "\n",
       "    .dataframe tbody tr th {\n",
       "        vertical-align: top;\n",
       "    }\n",
       "\n",
       "    .dataframe thead th {\n",
       "        text-align: right;\n",
       "    }\n",
       "</style>\n",
       "<table border=\"1\" class=\"dataframe\">\n",
       "  <thead>\n",
       "    <tr style=\"text-align: right;\">\n",
       "      <th></th>\n",
       "      <th>drugName</th>\n",
       "      <th>condition</th>\n",
       "      <th>rating</th>\n",
       "      <th>date_spec</th>\n",
       "      <th>usefulCount</th>\n",
       "      <th>sex</th>\n",
       "    </tr>\n",
       "  </thead>\n",
       "  <tbody>\n",
       "    <tr>\n",
       "      <th>6</th>\n",
       "      <td>Levonorgestrel</td>\n",
       "      <td>Emergency Contraception</td>\n",
       "      <td>1</td>\n",
       "      <td>2017-03-07</td>\n",
       "      <td>5</td>\n",
       "      <td>Female</td>\n",
       "    </tr>\n",
       "    <tr>\n",
       "      <th>22</th>\n",
       "      <td>Etonogestrel</td>\n",
       "      <td>Birth Control</td>\n",
       "      <td>9</td>\n",
       "      <td>2014-08-11</td>\n",
       "      <td>11</td>\n",
       "      <td>Female</td>\n",
       "    </tr>\n",
       "    <tr>\n",
       "      <th>31</th>\n",
       "      <td>Sertraline</td>\n",
       "      <td>Depression</td>\n",
       "      <td>8</td>\n",
       "      <td>2011-05-07</td>\n",
       "      <td>3</td>\n",
       "      <td>Neutral</td>\n",
       "    </tr>\n",
       "    <tr>\n",
       "      <th>42</th>\n",
       "      <td>Clonazepam</td>\n",
       "      <td>Panic Disorde</td>\n",
       "      <td>9</td>\n",
       "      <td>2008-04-01</td>\n",
       "      <td>30</td>\n",
       "      <td>Neutral</td>\n",
       "    </tr>\n",
       "    <tr>\n",
       "      <th>58</th>\n",
       "      <td>Bupropion</td>\n",
       "      <td>Smoking Cessation</td>\n",
       "      <td>10</td>\n",
       "      <td>2014-08-22</td>\n",
       "      <td>15</td>\n",
       "      <td>Neutral</td>\n",
       "    </tr>\n",
       "  </tbody>\n",
       "</table>\n",
       "</div>"
      ],
      "text/plain": [
       "          drugName                condition  rating  date_spec  usefulCount  \\\n",
       "6   Levonorgestrel  Emergency Contraception       1 2017-03-07            5   \n",
       "22    Etonogestrel            Birth Control       9 2014-08-11           11   \n",
       "31      Sertraline               Depression       8 2011-05-07            3   \n",
       "42      Clonazepam            Panic Disorde       9 2008-04-01           30   \n",
       "58       Bupropion        Smoking Cessation      10 2014-08-22           15   \n",
       "\n",
       "        sex  \n",
       "6    Female  \n",
       "22   Female  \n",
       "31  Neutral  \n",
       "42  Neutral  \n",
       "58  Neutral  "
      ]
     },
     "execution_count": 33,
     "metadata": {},
     "output_type": "execute_result"
    }
   ],
   "source": [
    "chosen_drugs_noreview.head()"
   ]
  },
  {
   "cell_type": "code",
   "execution_count": 45,
   "metadata": {},
   "outputs": [
    {
     "data": {
      "text/plain": [
       "Text(0.5,1,'Count for each drug in scope')"
      ]
     },
     "execution_count": 45,
     "metadata": {},
     "output_type": "execute_result"
    },
    {
     "data": {
      "image/png": "[encoded data removed]",
      "text/plain": [
       "<Figure size 432x288 with 1 Axes>"
      ]
     },
     "metadata": {},
     "output_type": "display_data"
    }
   ],
   "source": [
    "%matplotlib inline\n",
    "# chosen_Clonazepam_drug.groupby(chosen_Clonazepam_drug.date.dt.year).rating.mean().plot()\n",
    "\n",
    "chosen_drugs_noreview.drugName.value_counts().plot()\n",
    "\n",
    "plt.xlabel('Drugs')\n",
    "plt.ylabel('Counts')\n",
    "plt.title('Count for each drug in scope')"
   ]
  },
  {
   "cell_type": "markdown",
   "metadata": {},
   "source": [
    "# Maximum reviews which year for any drug"
   ]
  },
  {
   "cell_type": "code",
   "execution_count": 46,
   "metadata": {},
   "outputs": [
    {
     "data": {
      "text/plain": [
       "<matplotlib.axes._subplots.AxesSubplot at 0x7fc054318da0>"
      ]
     },
     "execution_count": 46,
     "metadata": {},
     "output_type": "execute_result"
    },
    {
     "data": {
      "image/png": "[encoded data removed]",
      "text/plain": [
       "<Figure size 432x288 with 1 Axes>"
      ]
     },
     "metadata": {},
     "output_type": "display_data"
    }
   ],
   "source": [
    "chosen_drugs_noreview.date_spec.value_counts().sort_index().plot()"
   ]
  },
  {
   "cell_type": "code",
   "execution_count": 47,
   "metadata": {},
   "outputs": [],
   "source": [
    "chosen_Clonazepam_drug = chosen_drugs_noreview.loc[chosen_drugs_noreview['drugName'] == 'Clonazepam']\n",
    "# chosen_Clonazepam_drug"
   ]
  },
  {
   "cell_type": "code",
   "execution_count": 48,
   "metadata": {},
   "outputs": [
    {
     "data": {
      "text/html": [
       "<div>\n",
       "<style scoped>\n",
       "    .dataframe tbody tr th:only-of-type {\n",
       "        vertical-align: middle;\n",
       "    }\n",
       "\n",
       "    .dataframe tbody tr th {\n",
       "        vertical-align: top;\n",
       "    }\n",
       "\n",
       "    .dataframe thead th {\n",
       "        text-align: right;\n",
       "    }\n",
       "</style>\n",
       "<table border=\"1\" class=\"dataframe\">\n",
       "  <thead>\n",
       "    <tr style=\"text-align: right;\">\n",
       "      <th></th>\n",
       "      <th>drugName</th>\n",
       "      <th>condition</th>\n",
       "      <th>rating</th>\n",
       "      <th>date_spec</th>\n",
       "      <th>usefulCount</th>\n",
       "      <th>sex</th>\n",
       "    </tr>\n",
       "  </thead>\n",
       "  <tbody>\n",
       "    <tr>\n",
       "      <th>6</th>\n",
       "      <td>Levonorgestrel</td>\n",
       "      <td>Emergency Contraception</td>\n",
       "      <td>1</td>\n",
       "      <td>2017-03-07</td>\n",
       "      <td>5</td>\n",
       "      <td>Female</td>\n",
       "    </tr>\n",
       "    <tr>\n",
       "      <th>22</th>\n",
       "      <td>Etonogestrel</td>\n",
       "      <td>Birth Control</td>\n",
       "      <td>9</td>\n",
       "      <td>2014-08-11</td>\n",
       "      <td>11</td>\n",
       "      <td>Female</td>\n",
       "    </tr>\n",
       "    <tr>\n",
       "      <th>31</th>\n",
       "      <td>Sertraline</td>\n",
       "      <td>Depression</td>\n",
       "      <td>8</td>\n",
       "      <td>2011-05-07</td>\n",
       "      <td>3</td>\n",
       "      <td>Neutral</td>\n",
       "    </tr>\n",
       "    <tr>\n",
       "      <th>42</th>\n",
       "      <td>Clonazepam</td>\n",
       "      <td>Panic Disorde</td>\n",
       "      <td>9</td>\n",
       "      <td>2008-04-01</td>\n",
       "      <td>30</td>\n",
       "      <td>Neutral</td>\n",
       "    </tr>\n",
       "    <tr>\n",
       "      <th>58</th>\n",
       "      <td>Bupropion</td>\n",
       "      <td>Smoking Cessation</td>\n",
       "      <td>10</td>\n",
       "      <td>2014-08-22</td>\n",
       "      <td>15</td>\n",
       "      <td>Neutral</td>\n",
       "    </tr>\n",
       "  </tbody>\n",
       "</table>\n",
       "</div>"
      ],
      "text/plain": [
       "          drugName                condition  rating  date_spec  usefulCount  \\\n",
       "6   Levonorgestrel  Emergency Contraception       1 2017-03-07            5   \n",
       "22    Etonogestrel            Birth Control       9 2014-08-11           11   \n",
       "31      Sertraline               Depression       8 2011-05-07            3   \n",
       "42      Clonazepam            Panic Disorde       9 2008-04-01           30   \n",
       "58       Bupropion        Smoking Cessation      10 2014-08-22           15   \n",
       "\n",
       "        sex  \n",
       "6    Female  \n",
       "22   Female  \n",
       "31  Neutral  \n",
       "42  Neutral  \n",
       "58  Neutral  "
      ]
     },
     "execution_count": 48,
     "metadata": {},
     "output_type": "execute_result"
    }
   ],
   "source": [
    "# chosen_nonull_drugs_noreview.loc[chosen_nonull_drugs_noreview['drugName'] == 'Quetiapine']\n",
    "# chosen_nonull_drugs_noreview.condition.value_counts()\n",
    "chosen_drugs_noreview.head()"
   ]
  },
  {
   "cell_type": "markdown",
   "metadata": {},
   "source": [
    "# The drugs present are: 'Gabapentin', 'Miconazole', 'Bupropion', 'Metronidazole', 'Clonazepam', 'Quetiapine', 'Levonorgestrel','Etonogestrel', 'Phentermine', 'Sertraline'      "
   ]
  },
  {
   "cell_type": "code",
   "execution_count": 92,
   "metadata": {},
   "outputs": [],
   "source": [
    "# chosen_Clonazepam_drug.date.value_counts().sort_index()"
   ]
  },
  {
   "cell_type": "code",
   "execution_count": 50,
   "metadata": {},
   "outputs": [
    {
     "data": {
      "text/plain": [
       "<matplotlib.axes._subplots.AxesSubplot at 0x7fc054213240>"
      ]
     },
     "execution_count": 50,
     "metadata": {},
     "output_type": "execute_result"
    },
    {
     "data": {
      "image/png": "[encoded data removed]",
      "text/plain": [
       "<Figure size 432x288 with 1 Axes>"
      ]
     },
     "metadata": {},
     "output_type": "display_data"
    }
   ],
   "source": [
    "# chosen_Clonazepam_drug['Year'] = chosen_Clonazepam_drug.date.dt.year\n",
    "# chosen_Clonazepam_drug.head()\n",
    "# chosen_Clonazepam_drug.loc[(chosen_Clonazepam_drug.rating.index),'Year'] = chosen_Clonazepam_drug.date.dt.year\n",
    "\n",
    "chosen_Clonazepam_drug.date_spec.dt.year.value_counts().sort_index().plot()"
   ]
  },
  {
   "cell_type": "code",
   "execution_count": 51,
   "metadata": {},
   "outputs": [
    {
     "data": {
      "text/plain": [
       "date_spec\n",
       "2008    8.851064\n",
       "2009    8.647059\n",
       "2010    9.441860\n",
       "2011    8.600000\n",
       "2012    8.877551\n",
       "2013    9.012821\n",
       "2014    9.197674\n",
       "2015    8.743243\n",
       "2016    7.700000\n",
       "2017    7.980952\n",
       "Name: rating, dtype: float64"
      ]
     },
     "execution_count": 51,
     "metadata": {},
     "output_type": "execute_result"
    }
   ],
   "source": [
    "chosen_Clonazepam_drug.groupby(chosen_Clonazepam_drug.date_spec.dt.year).rating.mean()"
   ]
  },
  {
   "cell_type": "markdown",
   "metadata": {},
   "source": [
    "# Avg rating of drug Clonazepam over the time"
   ]
  },
  {
   "cell_type": "code",
   "execution_count": 52,
   "metadata": {},
   "outputs": [
    {
     "data": {
      "text/plain": [
       "Text(0.5,1,'Clonazepam Performance')"
      ]
     },
     "execution_count": 52,
     "metadata": {},
     "output_type": "execute_result"
    },
    {
     "data": {
      "image/png": "[encoded data removed]",
      "text/plain": [
       "<Figure size 432x288 with 1 Axes>"
      ]
     },
     "metadata": {},
     "output_type": "display_data"
    }
   ],
   "source": [
    "chosen_Clonazepam_drug.groupby(chosen_Clonazepam_drug.date_spec.dt.year).rating.mean().plot()\n",
    "plt.xlabel('Date')\n",
    "plt.ylabel('Avg Rating')\n",
    "plt.title('Clonazepam Performance')"
   ]
  },
  {
   "cell_type": "code",
   "execution_count": 53,
   "metadata": {},
   "outputs": [
    {
     "data": {
      "text/html": [
       "<div>\n",
       "<style scoped>\n",
       "    .dataframe tbody tr th:only-of-type {\n",
       "        vertical-align: middle;\n",
       "    }\n",
       "\n",
       "    .dataframe tbody tr th {\n",
       "        vertical-align: top;\n",
       "    }\n",
       "\n",
       "    .dataframe thead th {\n",
       "        text-align: right;\n",
       "    }\n",
       "</style>\n",
       "<table border=\"1\" class=\"dataframe\">\n",
       "  <thead>\n",
       "    <tr style=\"text-align: right;\">\n",
       "      <th></th>\n",
       "      <th>drugName</th>\n",
       "      <th>condition</th>\n",
       "      <th>rating</th>\n",
       "      <th>date_spec</th>\n",
       "      <th>usefulCount</th>\n",
       "      <th>sex</th>\n",
       "    </tr>\n",
       "  </thead>\n",
       "  <tbody>\n",
       "    <tr>\n",
       "      <th>6</th>\n",
       "      <td>Levonorgestrel</td>\n",
       "      <td>Emergency Contraception</td>\n",
       "      <td>1</td>\n",
       "      <td>2017-03-07</td>\n",
       "      <td>5</td>\n",
       "      <td>Female</td>\n",
       "    </tr>\n",
       "    <tr>\n",
       "      <th>22</th>\n",
       "      <td>Etonogestrel</td>\n",
       "      <td>Birth Control</td>\n",
       "      <td>9</td>\n",
       "      <td>2014-08-11</td>\n",
       "      <td>11</td>\n",
       "      <td>Female</td>\n",
       "    </tr>\n",
       "    <tr>\n",
       "      <th>31</th>\n",
       "      <td>Sertraline</td>\n",
       "      <td>Depression</td>\n",
       "      <td>8</td>\n",
       "      <td>2011-05-07</td>\n",
       "      <td>3</td>\n",
       "      <td>Neutral</td>\n",
       "    </tr>\n",
       "    <tr>\n",
       "      <th>42</th>\n",
       "      <td>Clonazepam</td>\n",
       "      <td>Panic Disorde</td>\n",
       "      <td>9</td>\n",
       "      <td>2008-04-01</td>\n",
       "      <td>30</td>\n",
       "      <td>Neutral</td>\n",
       "    </tr>\n",
       "    <tr>\n",
       "      <th>58</th>\n",
       "      <td>Bupropion</td>\n",
       "      <td>Smoking Cessation</td>\n",
       "      <td>10</td>\n",
       "      <td>2014-08-22</td>\n",
       "      <td>15</td>\n",
       "      <td>Neutral</td>\n",
       "    </tr>\n",
       "  </tbody>\n",
       "</table>\n",
       "</div>"
      ],
      "text/plain": [
       "          drugName                condition  rating  date_spec  usefulCount  \\\n",
       "6   Levonorgestrel  Emergency Contraception       1 2017-03-07            5   \n",
       "22    Etonogestrel            Birth Control       9 2014-08-11           11   \n",
       "31      Sertraline               Depression       8 2011-05-07            3   \n",
       "42      Clonazepam            Panic Disorde       9 2008-04-01           30   \n",
       "58       Bupropion        Smoking Cessation      10 2014-08-22           15   \n",
       "\n",
       "        sex  \n",
       "6    Female  \n",
       "22   Female  \n",
       "31  Neutral  \n",
       "42  Neutral  \n",
       "58  Neutral  "
      ]
     },
     "execution_count": 53,
     "metadata": {},
     "output_type": "execute_result"
    }
   ],
   "source": [
    "chosen_drugs_noreview.head()"
   ]
  },
  {
   "cell_type": "code",
   "execution_count": 54,
   "metadata": {},
   "outputs": [],
   "source": [
    "def handle_non_numerical_data(df):\n",
    "    columns = df.columns.values\n",
    "    \n",
    "    for column in columns:\n",
    "        text_digit_vals = {}\n",
    "        def convert_to_int(val):\n",
    "            return text_digit_vals[val]\n",
    "        if df[column].dtype != np.int64 and df[column].dtype != np.float64:\n",
    "            column_contents = df[column].values.tolist()\n",
    "            unique_elements = set(column_contents)\n",
    "            x = 0\n",
    "            for unique in unique_elements:\n",
    "                if unique not in text_digit_vals:\n",
    "                    text_digit_vals[unique] = x\n",
    "                    x+=1\n",
    "            df[column] = list(map(convert_to_int,df[column]))\n",
    "    return df"
   ]
  },
  {
   "cell_type": "code",
   "execution_count": 55,
   "metadata": {},
   "outputs": [
    {
     "name": "stderr",
     "output_type": "stream",
     "text": [
      "/home/sagar/miniconda3/lib/python3.6/site-packages/ipykernel_launcher.py:16: SettingWithCopyWarning: \n",
      "A value is trying to be set on a copy of a slice from a DataFrame.\n",
      "Try using .loc[row_indexer,col_indexer] = value instead\n",
      "\n",
      "See the caveats in the documentation: http://pandas.pydata.org/pandas-docs/stable/indexing.html#indexing-view-versus-copy\n",
      "  app.launch_new_instance()\n"
     ]
    },
    {
     "data": {
      "text/html": [
       "<div>\n",
       "<style scoped>\n",
       "    .dataframe tbody tr th:only-of-type {\n",
       "        vertical-align: middle;\n",
       "    }\n",
       "\n",
       "    .dataframe tbody tr th {\n",
       "        vertical-align: top;\n",
       "    }\n",
       "\n",
       "    .dataframe thead th {\n",
       "        text-align: right;\n",
       "    }\n",
       "</style>\n",
       "<table border=\"1\" class=\"dataframe\">\n",
       "  <thead>\n",
       "    <tr style=\"text-align: right;\">\n",
       "      <th></th>\n",
       "      <th>drugName</th>\n",
       "      <th>condition</th>\n",
       "      <th>rating</th>\n",
       "      <th>usefulCount</th>\n",
       "      <th>sex</th>\n",
       "    </tr>\n",
       "  </thead>\n",
       "  <tbody>\n",
       "    <tr>\n",
       "      <th>6</th>\n",
       "      <td>3</td>\n",
       "      <td>10</td>\n",
       "      <td>1</td>\n",
       "      <td>5</td>\n",
       "      <td>0</td>\n",
       "    </tr>\n",
       "    <tr>\n",
       "      <th>22</th>\n",
       "      <td>5</td>\n",
       "      <td>36</td>\n",
       "      <td>9</td>\n",
       "      <td>11</td>\n",
       "      <td>0</td>\n",
       "    </tr>\n",
       "    <tr>\n",
       "      <th>31</th>\n",
       "      <td>8</td>\n",
       "      <td>2</td>\n",
       "      <td>8</td>\n",
       "      <td>3</td>\n",
       "      <td>1</td>\n",
       "    </tr>\n",
       "    <tr>\n",
       "      <th>42</th>\n",
       "      <td>2</td>\n",
       "      <td>101</td>\n",
       "      <td>9</td>\n",
       "      <td>30</td>\n",
       "      <td>1</td>\n",
       "    </tr>\n",
       "    <tr>\n",
       "      <th>58</th>\n",
       "      <td>7</td>\n",
       "      <td>67</td>\n",
       "      <td>10</td>\n",
       "      <td>15</td>\n",
       "      <td>1</td>\n",
       "    </tr>\n",
       "  </tbody>\n",
       "</table>\n",
       "</div>"
      ],
      "text/plain": [
       "    drugName  condition  rating  usefulCount  sex\n",
       "6          3         10       1            5    0\n",
       "22         5         36       9           11    0\n",
       "31         8          2       8            3    1\n",
       "42         2        101       9           30    1\n",
       "58         7         67      10           15    1"
      ]
     },
     "execution_count": 55,
     "metadata": {},
     "output_type": "execute_result"
    }
   ],
   "source": [
    "\n",
    "chosendrugs_nonull_noreview_numeric = handle_non_numerical_data(chosen_drugs_noreview[['drugName', 'condition', 'rating', 'usefulCount', 'sex']])\n",
    "# print(chosen_nonull_drugs.head())\n",
    "# handle_non_numerical_data(chosen_nonull_drugs)\n",
    "# chosen_nonull_drugs\n",
    "chosendrugs_nonull_noreview_numeric.head()"
   ]
  },
  {
   "cell_type": "code",
   "execution_count": 238,
   "metadata": {},
   "outputs": [
    {
     "data": {
      "text/plain": [
       "3    3657\n",
       "5    3336\n",
       "9    1543\n",
       "8    1360\n",
       "0    1047\n",
       "7    1022\n",
       "6    1000\n",
       "1     922\n",
       "4     831\n",
       "2     831\n",
       "Name: drugName, dtype: int64"
      ]
     },
     "execution_count": 238,
     "metadata": {},
     "output_type": "execute_result"
    }
   ],
   "source": [
    "chosendrugs_nonull_noreview_numeric.drugName.value_counts()"
   ]
  },
  {
   "cell_type": "code",
   "execution_count": 239,
   "metadata": {},
   "outputs": [
    {
     "data": {
      "text/plain": [
       "Levonorgestrel    3657\n",
       "Etonogestrel      3336\n",
       "Phentermine       1543\n",
       "Sertraline        1360\n",
       "Gabapentin        1047\n",
       "Bupropion         1022\n",
       "Miconazole        1000\n",
       "Metronidazole      922\n",
       "Quetiapine         831\n",
       "Clonazepam         831\n",
       "Name: drugName, dtype: int64"
      ]
     },
     "execution_count": 239,
     "metadata": {},
     "output_type": "execute_result"
    }
   ],
   "source": [
    "chosen_drugs_noreview.drugName.value_counts()"
   ]
  },
  {
   "cell_type": "code",
   "execution_count": 240,
   "metadata": {},
   "outputs": [],
   "source": [
    "# drug_list = list(chosen_drugs_noreview.drugName.unique())\n",
    "drug_dict = {'Levonorgestrel':3,'Etonogestrel':5,'Sertraline':8,'Clonazepam':2,'Bupropion':7,'Phentermine':9,'Gabapentin':0,'Miconazole':6,'Metronidazole':1,'Quetiapine':4}"
   ]
  },
  {
   "cell_type": "code",
   "execution_count": 271,
   "metadata": {},
   "outputs": [
    {
     "data": {
      "text/plain": [
       "drugName               object\n",
       "condition              object\n",
       "rating                  int64\n",
       "date_spec      datetime64[ns]\n",
       "usefulCount             int64\n",
       "sex                    object\n",
       "dtype: object"
      ]
     },
     "execution_count": 271,
     "metadata": {},
     "output_type": "execute_result"
    }
   ],
   "source": [
    "chosen_drugs_noreview.dtypes"
   ]
  },
  {
   "cell_type": "code",
   "execution_count": 246,
   "metadata": {},
   "outputs": [],
   "source": [
    "# chosen_drugs_noreview.drugName.unique()"
   ]
  },
  {
   "cell_type": "markdown",
   "metadata": {},
   "source": [
    "# Reported disease occurences over time"
   ]
  },
  {
   "cell_type": "code",
   "execution_count": 63,
   "metadata": {},
   "outputs": [],
   "source": [
    "# chosendrugs_nonull_noreview_numeric.groupby(chosen_drugs_noreview.date_spec.dt.year).condition.mean()"
   ]
  },
  {
   "cell_type": "code",
   "execution_count": 56,
   "metadata": {},
   "outputs": [
    {
     "data": {
      "text/plain": [
       "Text(0.5,1,'Reported disease occurences over time')"
      ]
     },
     "execution_count": 56,
     "metadata": {},
     "output_type": "execute_result"
    },
    {
     "data": {
      "image/png": "[encoded data removed]",
      "text/plain": [
       "<Figure size 432x288 with 1 Axes>"
      ]
     },
     "metadata": {},
     "output_type": "display_data"
    }
   ],
   "source": [
    "# plt.plot(chosen_nonull_drugs_noreview.date.dt.year.value_counts(),chosendrugs_nonull_numeric.condition,label='Drug Performance')\n",
    "# plt.xlabel('Date')\n",
    "# plt.ylabel('Condition')\n",
    "# plt.title('Reported disease occurences over time')\n",
    "\n",
    "# plt.legend()\n",
    "# plt.show()\n",
    "chosendrugs_nonull_noreview_numeric.groupby(chosen_drugs_noreview.date_spec.dt.year).condition.mean().plot()\n",
    "plt.xlabel('Date')\n",
    "plt.ylabel('Conditions')\n",
    "plt.legend()\n",
    "plt.title('Reported disease occurences over time')"
   ]
  },
  {
   "cell_type": "code",
   "execution_count": 64,
   "metadata": {},
   "outputs": [],
   "source": [
    "#INPUT FEATURES - Condition, Rating, Usefulcount, Sex\n",
    "#OUTPUT FEATURES - DrugName\n",
    "from sklearn.model_selection import train_test_split"
   ]
  },
  {
   "cell_type": "code",
   "execution_count": 65,
   "metadata": {},
   "outputs": [
    {
     "data": {
      "text/html": [
       "<div>\n",
       "<style scoped>\n",
       "    .dataframe tbody tr th:only-of-type {\n",
       "        vertical-align: middle;\n",
       "    }\n",
       "\n",
       "    .dataframe tbody tr th {\n",
       "        vertical-align: top;\n",
       "    }\n",
       "\n",
       "    .dataframe thead th {\n",
       "        text-align: right;\n",
       "    }\n",
       "</style>\n",
       "<table border=\"1\" class=\"dataframe\">\n",
       "  <thead>\n",
       "    <tr style=\"text-align: right;\">\n",
       "      <th></th>\n",
       "      <th>drugName</th>\n",
       "      <th>condition</th>\n",
       "      <th>rating</th>\n",
       "      <th>usefulCount</th>\n",
       "      <th>sex</th>\n",
       "    </tr>\n",
       "  </thead>\n",
       "  <tbody>\n",
       "    <tr>\n",
       "      <th>6</th>\n",
       "      <td>3</td>\n",
       "      <td>10</td>\n",
       "      <td>1</td>\n",
       "      <td>5</td>\n",
       "      <td>0</td>\n",
       "    </tr>\n",
       "    <tr>\n",
       "      <th>22</th>\n",
       "      <td>5</td>\n",
       "      <td>36</td>\n",
       "      <td>9</td>\n",
       "      <td>11</td>\n",
       "      <td>0</td>\n",
       "    </tr>\n",
       "    <tr>\n",
       "      <th>31</th>\n",
       "      <td>8</td>\n",
       "      <td>2</td>\n",
       "      <td>8</td>\n",
       "      <td>3</td>\n",
       "      <td>1</td>\n",
       "    </tr>\n",
       "    <tr>\n",
       "      <th>42</th>\n",
       "      <td>2</td>\n",
       "      <td>101</td>\n",
       "      <td>9</td>\n",
       "      <td>30</td>\n",
       "      <td>1</td>\n",
       "    </tr>\n",
       "    <tr>\n",
       "      <th>58</th>\n",
       "      <td>7</td>\n",
       "      <td>67</td>\n",
       "      <td>10</td>\n",
       "      <td>15</td>\n",
       "      <td>1</td>\n",
       "    </tr>\n",
       "  </tbody>\n",
       "</table>\n",
       "</div>"
      ],
      "text/plain": [
       "    drugName  condition  rating  usefulCount  sex\n",
       "6          3         10       1            5    0\n",
       "22         5         36       9           11    0\n",
       "31         8          2       8            3    1\n",
       "42         2        101       9           30    1\n",
       "58         7         67      10           15    1"
      ]
     },
     "execution_count": 65,
     "metadata": {},
     "output_type": "execute_result"
    }
   ],
   "source": [
    "chosendrugs_nonull_noreview_numeric.head()"
   ]
  },
  {
   "cell_type": "code",
   "execution_count": 211,
   "metadata": {},
   "outputs": [],
   "source": [
    "# chosendrugs_nonull_noreview_numeric.usefulCount.value_counts().sort_index()"
   ]
  },
  {
   "cell_type": "code",
   "execution_count": 66,
   "metadata": {},
   "outputs": [],
   "source": [
    "X_train, X_test, y_train, y_test = train_test_split(\n",
    "    chosendrugs_nonull_noreview_numeric[[\"condition\",\"rating\",\"usefulCount\",\"sex\"]], chosendrugs_nonull_noreview_numeric[\"drugName\"], test_size=.3, stratify=chosendrugs_nonull_noreview_numeric[\"drugName\"], random_state=0)"
   ]
  },
  {
   "cell_type": "code",
   "execution_count": 67,
   "metadata": {},
   "outputs": [
    {
     "name": "stdout",
     "output_type": "stream",
     "text": [
      "Test set predictions:\n",
      " [9 3 6 ... 5 4 5]\n",
      "Test set predictions:\n",
      " [9 7 5 ... 5 1 5]\n",
      "0.5337620578778135\n",
      "0.39206859592711685\n",
      "Number of mislabeled points out of a total 4665 points : 2175\n",
      "Number of mislabeled points out of a total 4665 points : 2836\n"
     ]
    }
   ],
   "source": [
    "#Since the features are independent of each other we try for NB model for classification\n",
    "from sklearn.naive_bayes import GaussianNB\n",
    "from sklearn.naive_bayes import MultinomialNB\n",
    "\n",
    "\n",
    "mnb = MultinomialNB()\n",
    "gnb = GaussianNB()\n",
    "gnb.fit(X_train, y_train)\n",
    "mnb.fit(X_train, y_train)\n",
    "y_pred = gnb.predict(X_test)\n",
    "y_pred_mnb = mnb.predict(X_test)\n",
    "\n",
    "print(\"Test set predictions:\\n {}\".format(y_pred))\n",
    "print(\"Test set predictions:\\n {}\".format(y_pred_mnb))\n",
    "print(gnb.score(X_test, y_test))\n",
    "print(mnb.score(X_test, y_test))\n",
    "print(\"Number of mislabeled points out of a total %d points : %d\"\n",
    "       % (y_test.shape[0],(y_test != y_pred).sum()))\n",
    "print(\"Number of mislabeled points out of a total %d points : %d\"\n",
    "       % (y_test.shape[0],(y_test != y_pred_mnb).sum()))"
   ]
  },
  {
   "cell_type": "code",
   "execution_count": 68,
   "metadata": {},
   "outputs": [
    {
     "name": "stdout",
     "output_type": "stream",
     "text": [
      "Test set predictions:\n",
      " [9 5 6 ... 5 2 5]\n",
      "0.6658092175777063\n"
     ]
    }
   ],
   "source": [
    "#KNN\n",
    "from sklearn.neighbors import KNeighborsClassifier \n",
    "knn = KNeighborsClassifier(n_neighbors=1)\n",
    "knn.fit(X_train, y_train)\n",
    "y_pred = knn.predict(X_test)\n",
    "print(\"Test set predictions:\\n {}\".format(y_pred))\n",
    "print(knn.score(X_test, y_test))"
   ]
  },
  {
   "cell_type": "code",
   "execution_count": 69,
   "metadata": {},
   "outputs": [
    {
     "data": {
      "image/png": "[encoded data removed]",
      "text/plain": [
       "<Figure size 432x288 with 1 Axes>"
      ]
     },
     "metadata": {},
     "output_type": "display_data"
    }
   ],
   "source": [
    "# Setup arrays to store train and test accuracies\n",
    "neighbors = np.arange(1, 9)\n",
    "train_accuracy = np.empty(len(neighbors))\n",
    "test_accuracy = np.empty(len(neighbors))\n",
    "\n",
    "# Loop over different values of k\n",
    "for i, k in enumerate(neighbors):\n",
    "    # Setup a k-NN Classifier with k neighbors: knn\n",
    "    knn = KNeighborsClassifier(n_neighbors=k)\n",
    "\n",
    "    # Fit the classifier to the training data\n",
    "    knn.fit(X_train, y_train)\n",
    "\n",
    "    #Compute accuracy on the training set\n",
    "    train_accuracy[i] = knn.score(X_train, y_train)\n",
    "\n",
    "    #Compute accuracy on the testing set\n",
    "    test_accuracy[i] = knn.score(X_test, y_test)\n",
    "\n",
    "# Generate plot\n",
    "plt.title('k-NN: Varying Number of Neighbors')\n",
    "plt.plot(neighbors, test_accuracy, label = 'Testing Accuracy')\n",
    "plt.plot(neighbors, train_accuracy, label = 'Training Accuracy')\n",
    "plt.legend()\n",
    "plt.xlabel('Number of Neighbors')\n",
    "plt.ylabel('Accuracy')\n",
    "plt.show()\n"
   ]
  },
  {
   "cell_type": "markdown",
   "metadata": {},
   "source": [
    "# Ensembling"
   ]
  },
  {
   "cell_type": "code",
   "execution_count": 70,
   "metadata": {},
   "outputs": [],
   "source": [
    "import seaborn as sns \n",
    "sns.set()\n",
    "import warnings\n",
    "warnings.simplefilter(\"ignore\", DeprecationWarning)"
   ]
  },
  {
   "cell_type": "code",
   "execution_count": 83,
   "metadata": {},
   "outputs": [],
   "source": [
    "from sklearn.linear_model import LogisticRegression\n",
    "from sklearn.tree import DecisionTreeClassifier\n",
    "from sklearn.ensemble import VotingClassifier\n",
    "\n",
    "\n",
    "def test_voting(X_train, X_test, y_train, y_test):\n",
    "    voting = VotingClassifier(\n",
    "        [('logreg', LogisticRegression(C=10)),\n",
    "         ('tree', DecisionTreeClassifier(max_depth=3, random_state=0))],\n",
    "        voting='soft')\n",
    "    voting.fit(X_train, y_train)\n",
    "    lr, tree = voting.estimators_\n",
    "    print(voting.score(X_test, y_test), lr.score(X_test, y_test), tree.score(X_test, y_test))\n",
    "#     print(voting.estimators_[0].score(X_test, y_test))\n",
    "#     print(voting.estimators_[1].score(X_test, y_test))"
   ]
  },
  {
   "cell_type": "code",
   "execution_count": 84,
   "metadata": {},
   "outputs": [
    {
     "name": "stdout",
     "output_type": "stream",
     "text": [
      "0.5907824222936763 0.5093247588424438 0.5727759914255091\n"
     ]
    }
   ],
   "source": [
    "test_voting(X_train, X_test, y_train, y_test)"
   ]
  },
  {
   "cell_type": "markdown",
   "metadata": {},
   "source": [
    "# Random Forest Classifier"
   ]
  },
  {
   "cell_type": "code",
   "execution_count": 101,
   "metadata": {},
   "outputs": [],
   "source": [
    "from sklearn.ensemble import RandomForestClassifier\n",
    "\n",
    "train_scores = []\n",
    "test_scores = []\n",
    "\n",
    "rf = RandomForestClassifier(warm_start=True)\n",
    "estimator_range = range(1, 95)\n",
    "for n_estimators in estimator_range:\n",
    "    rf.n_estimators = n_estimators\n",
    "    rf.fit(X_train, y_train)\n",
    "    train_scores.append(rf.score(X_train, y_train))\n",
    "    test_scores.append(rf.score(X_test, y_test))"
   ]
  },
  {
   "cell_type": "code",
   "execution_count": 102,
   "metadata": {},
   "outputs": [
    {
     "data": {
      "image/png": "[encoded data removed]",
      "text/plain": [
       "<Figure size 432x288 with 1 Axes>"
      ]
     },
     "metadata": {},
     "output_type": "display_data"
    }
   ],
   "source": [
    "plt.plot(estimator_range, test_scores, label=\"test scores\")\n",
    "plt.plot(estimator_range, train_scores, label=\"train scores\")\n",
    "plt.ylabel(\"accuracy\")\n",
    "plt.xlabel(\"n_estimators\")\n",
    "plt.legend();"
   ]
  },
  {
   "cell_type": "code",
   "execution_count": 123,
   "metadata": {},
   "outputs": [
    {
     "data": {
      "text/plain": [
       "Text(0.5,0,'max_features')"
      ]
     },
     "execution_count": 123,
     "metadata": {},
     "output_type": "execute_result"
    },
    {
     "data": {
      "image/png": "[encoded data removed]",
      "text/plain": [
       "<Figure size 432x288 with 1 Axes>"
      ]
     },
     "metadata": {},
     "output_type": "display_data"
    }
   ],
   "source": [
    "train_scores = []\n",
    "test_scores = []\n",
    "oob_scores = []\n",
    "\n",
    "feature_range = range(1, 5)\n",
    "for max_features in feature_range:\n",
    "    rf = RandomForestClassifier(max_features=max_features, oob_score=True, n_estimators=40, random_state=0)\n",
    "    rf.fit(X_train, y_train)\n",
    "    train_scores.append(rf.score(X_train, y_train))\n",
    "    test_scores.append(rf.score(X_test, y_test))\n",
    "    oob_scores.append(rf.oob_score_)\n",
    "    \n",
    "plt.plot(feature_range, test_scores, label=\"test scores\")\n",
    "plt.plot(feature_range, oob_scores, label=\"oob_scores scores\")\n",
    "plt.plot(feature_range, train_scores, label=\"train scores\")\n",
    "plt.legend()\n",
    "plt.ylabel(\"accuracy\")\n",
    "plt.xlabel(\"max_features\")"
   ]
  },
  {
   "cell_type": "code",
   "execution_count": 124,
   "metadata": {},
   "outputs": [
    {
     "data": {
      "text/plain": [
       "array([0.6304021 , 0.0593658 , 0.13068429, 0.17954781])"
      ]
     },
     "execution_count": 124,
     "metadata": {},
     "output_type": "execute_result"
    }
   ],
   "source": [
    "rf.feature_importances_"
   ]
  },
  {
   "cell_type": "code",
   "execution_count": 127,
   "metadata": {},
   "outputs": [
    {
     "data": {
      "image/png": "[encoded data removed]",
      "text/plain": [
       "<Figure size 432x288 with 1 Axes>"
      ]
     },
     "metadata": {},
     "output_type": "display_data"
    }
   ],
   "source": [
    "plt.barh(range(4), rf.feature_importances_)\n",
    "plt.yticks(range(4), chosendrugs_nonull_noreview_numeric[[\"condition\",\"rating\",\"usefulCount\",\"sex\"]]);"
   ]
  },
  {
   "cell_type": "code",
   "execution_count": 129,
   "metadata": {},
   "outputs": [
    {
     "name": "stdout",
     "output_type": "stream",
     "text": [
      "Logistic Regression : 0.510\n",
      "K Nearest Neighbours : 0.672\n",
      "Classification Tree : 0.737\n",
      "Voting Classifier: 0.695\n"
     ]
    }
   ],
   "source": [
    "from sklearn.metrics import accuracy_score\n",
    "# Import function to split data\n",
    "# from sklearn.model_selection import train_test_split\n",
    "# Import models\n",
    "from sklearn.linear_model import LogisticRegression\n",
    "from sklearn.tree import DecisionTreeClassifier\n",
    "from sklearn.neighbors import KNeighborsClassifier as KNN\n",
    "# Import the VotingClassifier meta-model\n",
    "from sklearn.ensemble import VotingClassifier\n",
    "# Set seed for reproducibility\n",
    "# SEED = 1\n",
    "\n",
    "# data = load_breast_cancer()\n",
    "# X, y = data.data, data.target\n",
    "# # Split data into 70% train and 30% test\n",
    "# X_train, X_test, y_train, y_test = train_test_split(X, y,\n",
    "#                                                     test_size= 0.3, random_state= SEED)\n",
    "# Instantiate individual classifiers\n",
    "lr = LogisticRegression(random_state=1)\n",
    "knn = KNN()\n",
    "\n",
    "\n",
    "dt = DecisionTreeClassifier(random_state=1)\n",
    "# Define a list called classifier that contains\n",
    "# the tuples (classifier_name, classifier)\n",
    "classifiers = [('Logistic Regression', lr),\n",
    "               ('K Nearest Neighbours', knn),\n",
    "               ('Classification Tree', dt)]\n",
    "    \n",
    "# Iterate over the defined list of tuples containing the classifiers\n",
    "for clf_name, clf in classifiers:\n",
    "    #fit clf to the training set\n",
    "    clf.fit(X_train, y_train)\n",
    "    # Predict the labels of the test set\n",
    "    y_pred = clf.predict(X_test)\n",
    "    # Evaluate the accuracy of clf on the test set\n",
    "    print('{:s} : {:.3f}'.format(clf_name, accuracy_score(y_test, y_pred)))\n",
    "    \n",
    "# Instantiate a Voting Classifier 'vc'\n",
    "vc = VotingClassifier(estimators=classifiers)\n",
    "# Fit 'vc' to the training set\n",
    "vc.fit(X_train, y_train)\n",
    "# Predict test set labels\n",
    "y_pred = vc.predict(X_test)\n",
    "# Evaluate the test-set accuracy of 'vc'\n",
    "print('Voting Classifier: {:.3f}'.format(accuracy_score(y_test, y_pred)))\n",
    "\n"
   ]
  },
  {
   "cell_type": "code",
   "execution_count": 169,
   "metadata": {},
   "outputs": [
    {
     "name": "stdout",
     "output_type": "stream",
     "text": [
      "0.60 0.51 0.57 0.66 \n"
     ]
    }
   ],
   "source": [
    "#Simple Stacking\n",
    "\n",
    "from sklearn.pipeline import make_pipeline\n",
    "\n",
    "voting = VotingClassifier([('logreg', LogisticRegression()),\n",
    "                           ('tree', DecisionTreeClassifier(max_depth=3, random_state=0)),\n",
    "                           ('knn', KNeighborsClassifier(n_neighbors=3))\n",
    "                          ],\n",
    "                         voting='hard', flatten_transform=True)\n",
    "voting.fit(X_train, y_train)\n",
    "lr, tree, knn = voting.estimators_\n",
    "print((\"{:.2f} \" * 4).format(voting.score(X_test, y_test),\n",
    "                             lr.score(X_test, y_test), tree.score(X_test, y_test),\n",
    "                             knn.score(X_test, y_test)))\n",
    "\n",
    "# This implies simple stacking reduced the accuracy"
   ]
  },
  {
   "cell_type": "code",
   "execution_count": 151,
   "metadata": {},
   "outputs": [
    {
     "name": "stdout",
     "output_type": "stream",
     "text": [
      "Accuracy of DT Classifier: 0.605\n",
      "Test set Accuracy of Bagging Classifier: 0.635\n"
     ]
    }
   ],
   "source": [
    "# Import models and utility functions\n",
    "from sklearn.ensemble import BaggingClassifier\n",
    "from sklearn.tree import DecisionTreeClassifier\n",
    "from sklearn.metrics import accuracy_score\n",
    "\n",
    "# Instantiate a classification-tree 'dt'\n",
    "dt = DecisionTreeClassifier(max_depth=4, min_samples_leaf=0.005, random_state=1)\n",
    "dt.fit(X_train, y_train)\n",
    "y_pred = dt.predict(X_test)\n",
    "accuracy = accuracy_score(y_test, y_pred)\n",
    "print('Accuracy of DT Classifier: {:.3f}'.format(accuracy))\n",
    "\n",
    "dt = DecisionTreeClassifier(max_depth=4, min_samples_leaf=0.005, random_state=1)\n",
    "\n",
    "# Instantiate a BaggingClassifier 'bc'\n",
    "bc = BaggingClassifier(base_estimator=dt, n_estimators=20, n_jobs=-1)\n",
    "# Fit 'bc' to the training set\n",
    "bc.fit(X_train, y_train)\n",
    "# Predict test set labels\n",
    "y_pred = bc.predict(X_test)\n",
    "# Evaluate and print test-set accuracy\n",
    "test_accuracy = accuracy_score(y_test, y_pred)\n",
    "print('Test set Accuracy of Bagging Classifier: {:.3f}'.format(test_accuracy))"
   ]
  },
  {
   "cell_type": "code",
   "execution_count": 163,
   "metadata": {},
   "outputs": [
    {
     "name": "stdout",
     "output_type": "stream",
     "text": [
      "Test set accuracy: 0.610\n",
      "OOB accuracy: 0.602\n"
     ]
    }
   ],
   "source": [
    "# Import models and split utility function\n",
    "from sklearn.ensemble import BaggingClassifier\n",
    "from sklearn.tree import DecisionTreeClassifier\n",
    "from sklearn.metrics import accuracy_score\n",
    "\n",
    "# Instantiate a classification-tree 'dt'\n",
    "dt = DecisionTreeClassifier(max_depth=3, min_samples_leaf=0.005, random_state=1)\n",
    "# Instantiate a BaggingClassifier 'bc'; set oob_score= True\n",
    "bc = BaggingClassifier(base_estimator=dt, n_estimators=300, oob_score=True, n_jobs=-1)\n",
    "# Fit 'bc' to the training set\n",
    "bc.fit(X_train, y_train)\n",
    "# Predict the test set labels\n",
    "y_pred = bc.predict(X_test)\n",
    "\n",
    "\n",
    "# Evaluate test set accuracy\n",
    "test_accuracy = accuracy_score(y_test, y_pred)\n",
    "# Extract the OOB accuracy from 'bc'\n",
    "oob_accuracy = bc.oob_score_\n",
    "# Print test set accuracy\n",
    "print('Test set accuracy: {:.3f}'.format(test_accuracy))\n",
    "\n",
    "\n",
    "# Print OOB accuracy\n",
    "print('OOB accuracy: {:.3f}'.format(oob_accuracy))"
   ]
  },
  {
   "cell_type": "markdown",
   "metadata": {},
   "source": [
    "# Gradient Boosting Classifier classifies drugNames depending on condition, usefulCount, rating, sex  with the best accuracy 76.7%"
   ]
  },
  {
   "cell_type": "code",
   "execution_count": 166,
   "metadata": {},
   "outputs": [
    {
     "data": {
      "text/plain": [
       "0.7665594855305466"
      ]
     },
     "execution_count": 166,
     "metadata": {},
     "output_type": "execute_result"
    }
   ],
   "source": [
    "from sklearn.ensemble import GradientBoostingClassifier\n",
    "\n",
    "gbrt = GradientBoostingClassifier().fit(X_train, y_train)\n",
    "gbrt.score(X_test, y_test)"
   ]
  },
  {
   "cell_type": "code",
   "execution_count": 174,
   "metadata": {},
   "outputs": [],
   "source": [
    "import ipywidgets as widgets\n",
    "from IPython.display import display\n",
    "%matplotlib nbagg"
   ]
  },
  {
   "cell_type": "code",
   "execution_count": 182,
   "metadata": {},
   "outputs": [
    {
     "data": {
      "application/vnd.jupyter.widget-view+json": {
       "model_id": "7768ccb7e74f4de7b9eeaaaaa9e2a2cb",
       "version_major": 2,
       "version_minor": 0
      },
      "text/plain": [
       "Button(description='Press to get the drug Name', icon='check', style=ButtonStyle(), tooltip='Press to get the …"
      ]
     },
     "metadata": {},
     "output_type": "display_data"
    }
   ],
   "source": [
    "# x = np.linspace(0,2,1000)\n",
    "# fig, ax = plt.subplots(1, figsize = (10,4))\n",
    "# plt.suptitle('Sine Wave')\n",
    "\n",
    "# amp = widgets.FloatSlider(min=1, max=10, value=1, description='Amp:')\n",
    "# display(amp)\n",
    "\n",
    "\n",
    "widgets.Button(\n",
    "    description='Press to get the drug Name',\n",
    "    disabled=False,\n",
    "    button_style='', # 'success', 'info', 'warning', 'danger' or ''\n",
    "    tooltip='Press to get the drug Name',\n",
    "    icon='check'\n",
    ")"
   ]
  },
  {
   "cell_type": "code",
   "execution_count": 274,
   "metadata": {},
   "outputs": [
    {
     "data": {
      "application/vnd.jupyter.widget-view+json": {
       "model_id": "d900f160f7e742fbac9cc6957558e3df",
       "version_major": 2,
       "version_minor": 0
      },
      "text/plain": [
       "HBox(children=(VBox(children=(Text(value='', description='Condition:', placeholder='Condition'), IntSlider(val…"
      ]
     },
     "metadata": {},
     "output_type": "display_data"
    }
   ],
   "source": [
    "cond = widgets.Text(\n",
    "            value='',\n",
    "            placeholder='Condition',\n",
    "            description='Condition:',\n",
    "            disabled=False\n",
    "        )\n",
    "useCount = widgets.IntSlider(min=0,\n",
    "                           max=1291,\n",
    "                           value=0,\n",
    "                           description='EffectRating:')\n",
    "\n",
    "# widgets.IntText(\n",
    "#             value=0,\n",
    "#             min=0,\n",
    "#             max=10,\n",
    "#             placeholder='Usefulness',\n",
    "#             description='UseCount:',\n",
    "#             disabled=False\n",
    "#         )\n",
    "Rating = widgets.IntSlider(min=0,\n",
    "                           max=10,\n",
    "                           value=0,\n",
    "                           description='Rating:')\n",
    "# IntText(\n",
    "#             value=0,\n",
    "#             min=0,\n",
    "#             max=10,\n",
    "#             placeholder='Rating',\n",
    "#             description='Rating:',\n",
    "#             disabled=False\n",
    "#         )\n",
    "gender = widgets.Text(\n",
    "            value='',\n",
    "            placeholder='Sex',\n",
    "            description='Gender:',\n",
    "            disabled=False\n",
    "        )\n",
    "drug_Name = widgets.Text(\n",
    "            value='',\n",
    "            placeholder='Recommended Drug',\n",
    "            description='DrugName:',\n",
    "            disabled=True\n",
    "        )\n",
    "\n",
    "Enter_button = widgets.Button(\n",
    "                description='Enter',\n",
    "                disabled=False,\n",
    "                button_style='', # 'success', 'info', 'warning', 'danger' or ''\n",
    "                tooltip='Enter',\n",
    "#                 icon='check'\n",
    "            )\n",
    "\n",
    "Clear_button = widgets.Button(\n",
    "                description='Refresh',\n",
    "                disabled=False,\n",
    "                button_style='', # 'success', 'info', 'warning', 'danger' or ''\n",
    "                tooltip='Refresh',\n",
    "            )\n",
    "\n",
    "items = [cond, useCount, Rating, gender]\n",
    "# Hbx = widgets.HBox(items)\n",
    "# widgets.VBox([Hbx, outpt_hbx])\n",
    "button_items = [Enter_button, Clear_button]\n",
    "\n",
    "first_vbx = widgets.VBox(items)\n",
    "button_vbx = widgets.VBox(button_items)\n",
    "output_items = [first_vbx, button_vbx, drug_Name]\n",
    "outpt_hbx = widgets.HBox(output_items)\n",
    "# second_vbx = widgets.VBox([useCount, Enter_button])\n",
    "# display(, drug_Name)\n",
    "from sklearn.ensemble import GradientBoostingClassifier\n",
    "gbrt = GradientBoostingClassifier().fit(X_train, y_train)\n",
    "\n",
    "@Enter_button.on_click\n",
    "def drugName_on_click(b):\n",
    "#     dict_test = {'Condition':[cond.value],'UsefulCount':[useCount.value],'Rating':[Rating.value],'Gender':[gender.value]}\n",
    "#     pd.DataFrame.from_dict(list(dict_test.items()), columns = ['Condition','UsefulCount','Rating','Gender'])\n",
    "#     pd.DataFrame.from_dict(dict_test, orient = ‘index’)\n",
    "#     gbrt = GradientBoostingClassifier().fit(X_train, y_train)\n",
    "#     gbrt_pred = gbrt.predict(handle_non_numerical_data(pd.DataFrame([{'Condition':cond.value,'UsefulCount':useCount.value,'Rating':Rating.value,'Gender':gender.value}])))\n",
    "    inp_dat = pd.DataFrame([{'Condition':cond.value,'UsefulCount':useCount.value,'Rating':Rating.value,'Gender':gender.value}])\n",
    "    gbrt_pred = gbrt.predict(inp_dat)\n",
    "    #     print(inp_dat.dtypes)\n",
    "#     print(handle_non_numerical_data(inp_dat))\n",
    "    drug_Name.disabled = False\n",
    "    drug_Name.value = dict((v,k) for k,v in drug_dict.items()).get(int(gbrt_pred))\n",
    "\n",
    "@Clear_button.on_click\n",
    "def clear_on_click(b):\n",
    "#     dict_test = {'Condition':[cond.value],'UsefulCount':[useCount.value],'Rating':[Rating.value],'Gender':[gender.value]}\n",
    "#     pd.DataFrame.from_dict(list(dict_test.items()), columns = ['Condition','UsefulCount','Rating','Gender'])\n",
    "#     pd.DataFrame.from_dict(dict_test, orient = ‘index’)\n",
    "#     gbrt = GradientBoostingClassifier().fit(X_train, y_train)\n",
    "#     gbrt_pred = gbrt.predict(handle_non_numerical_data(pd.DataFrame([{'Condition':cond.value,'UsefulCount':useCount.value,'Rating':Rating.value,'Gender':gender.value}])))\n",
    "    drug_Name.disabled = True\n",
    "    drug_Name.value = \" \"\n",
    "    cond.value = \" \"\n",
    "    useCount.value = 0\n",
    "    Rating.value = 0\n",
    "    gender.value = \" \"\n",
    "\n",
    "    \n",
    "    \n",
    "display(outpt_hbx)\n",
    "\n"
   ]
  },
  {
   "cell_type": "code",
   "execution_count": null,
   "metadata": {},
   "outputs": [],
   "source": []
  }
 ],
 "metadata": {
  "kernelspec": {
   "display_name": "Python 3",
   "language": "python",
   "name": "python3"
  },
  "language_info": {
   "codemirror_mode": {
    "name": "ipython",
    "version": 3
   },
   "file_extension": ".py",
   "mimetype": "text/x-python",
   "name": "python",
   "nbconvert_exporter": "python",
   "pygments_lexer": "ipython3",
   "version": "3.6.3"
  }
 },
 "nbformat": 4,
 "nbformat_minor": 2
}
