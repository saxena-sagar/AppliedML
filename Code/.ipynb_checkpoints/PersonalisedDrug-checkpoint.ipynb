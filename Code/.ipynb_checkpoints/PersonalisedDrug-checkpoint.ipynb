{
 "cells": [
  {
   "cell_type": "code",
   "execution_count": 2,
   "metadata": {},
   "outputs": [],
   "source": [
    "import pandas as pd\n",
    "import numpy as np\n",
    "import matplotlib.pyplot as plt"
   ]
  },
  {
   "cell_type": "code",
   "execution_count": 3,
   "metadata": {},
   "outputs": [],
   "source": [
    "# !pip3 install xlrd"
   ]
  },
  {
   "cell_type": "code",
   "execution_count": 3,
   "metadata": {},
   "outputs": [],
   "source": [
    "# input_data = pd.read_csv(\"drugsComTrain_raw.tsv\", sep = '\\t')\n",
    "input_data_EDA = pd.read_excel(\"EDA_ML.xlsx\")\n",
    "# input_data_EDA"
   ]
  },
  {
   "cell_type": "code",
   "execution_count": 5,
   "metadata": {},
   "outputs": [],
   "source": [
    "# input_data_EDA.head(5)\n",
    "# input_data_EDA\n",
    "# input_data_EDA.dropna(axis=\"columns\").shape[0]\n",
    "# input_data.review[:2]\n",
    "# input_data_EDA.shape[0]"
   ]
  },
  {
   "cell_type": "code",
   "execution_count": 6,
   "metadata": {},
   "outputs": [],
   "source": [
    "# !pip3 install nltk"
   ]
  },
  {
   "cell_type": "code",
   "execution_count": 4,
   "metadata": {},
   "outputs": [],
   "source": [
    "import nltk\n",
    "from nltk.tokenize import word_tokenize\n",
    "\n",
    "male_comterms = ['has', 'son', 'husband', 'father', 'he', 'him', 'his', 'dad', 'male' ] #words in comments indicating male\n",
    "male_diseaseterms = ['prostate', 'erectile', 'penis', 'penile', 'testicular', 'testicle']\n",
    "female_comterms = ['daughter', 'wife', 'mother', 'mom', 'her', 'she', 'female']\n",
    "female_diseaseterms = ['abortion', 'breas', 'birth', 'prenatal', 'postnatal', 'contraception', 'contraceptive', 'vagin', 'vagina', 'ovary', 'ovarian', 'PCOS']\n",
    "conditions_chosen_male = ['testi', 'prostate', 'Erecti']\n",
    "conditions_chosen_female = ['Pelvic Inflammatory Disease', 'Premenstrual Dysphoric Disorde', 'Vulvodynia', 'Bacterial Vaginitis', 'Vaginal Yeast Infection']"
   ]
  },
  {
   "cell_type": "code",
   "execution_count": 7,
   "metadata": {},
   "outputs": [],
   "source": [
    "# input_data_EDA.dropna(axis=\"columns\", how=\"all\")\n",
    "# input_data_EDA.dropna(axis=\"columns\", thresh=len(input_data_EDA)-1000, inplace=True)"
   ]
  },
  {
   "cell_type": "code",
   "execution_count": 8,
   "metadata": {},
   "outputs": [],
   "source": [
    "# input_data_EDA.drop(['sex'],axis=1,inplace=True)"
   ]
  },
  {
   "cell_type": "code",
   "execution_count": 5,
   "metadata": {},
   "outputs": [
    {
     "data": {
      "text/plain": [
       "drugName            0\n",
       "condition         826\n",
       "review              0\n",
       "rating              0\n",
       "date                0\n",
       "usefulCount         0\n",
       "Unnamed: 6     161296\n",
       "dtype: int64"
      ]
     },
     "execution_count": 5,
     "metadata": {},
     "output_type": "execute_result"
    }
   ],
   "source": [
    "input_data_EDA.isnull().sum()"
   ]
  },
  {
   "cell_type": "code",
   "execution_count": 6,
   "metadata": {},
   "outputs": [],
   "source": [
    "input_data_EDA.dropna(axis=\"columns\", thresh=len(input_data_EDA)-1000, inplace=True)"
   ]
  },
  {
   "cell_type": "code",
   "execution_count": 7,
   "metadata": {},
   "outputs": [],
   "source": [
    "def label_sex(tokenized_words):\n",
    "        if any(elem in tokenized_words for elem in male_comterms):\n",
    "            return \"Male\"\n",
    "        if any(elem in tokenized_words for elem in male_diseaseterms):\n",
    "            return \"Male\"\n",
    "        if any(elem in tokenized_words for elem in conditions_chosen_male):\n",
    "            return \"Male\"\n",
    "        if any(elem in tokenized_words for elem in female_comterms):\n",
    "            return \"Female\"\n",
    "        if any(elem in tokenized_words for elem in female_diseaseterms):\n",
    "            return \"Female\"\n",
    "        if any(elem in tokenized_words for elem in conditions_chosen_female):\n",
    "            return \"Female\"\n",
    "        else:\n",
    "            return \"Neutral\""
   ]
  },
  {
   "cell_type": "code",
   "execution_count": 8,
   "metadata": {},
   "outputs": [],
   "source": [
    "# input_data[\"sex\"] = np.where(label_sex(), 'Male', 'Female')  \n",
    "#     input_data.apply(lambda row: label_sex(row),axis=1)\n",
    "#     input_data[\"sex\"] = np.where((elem in words for elem in male_comterms),\"FeMale\",\"male\")\n",
    "#     if any(elem in words for elem in male_comterms):\n",
    "#     words in male_comterms:\n",
    "#         print('work')\n",
    "#     input_data[\"sex\"] = \n",
    "# for comment in input_data.review[:3]:\n",
    "#     tokenized_words = word_tokenize(comment)\n",
    "# input_data[\"sex\"] = np.where((elem in word_tokenize(comment) for comment in input_data.review[:3] for elem in male_comterms),\"Male\",\"Female\")\n",
    "result = []\n",
    "for comment in input_data_EDA.review:\n",
    "    words = word_tokenize(comment)\n",
    "    result.append(label_sex(words))\n",
    "\n",
    "    \n",
    "    \n",
    "input_data_EDA.loc[(input_data_EDA.review.index),'sex'] = result\n",
    "\n",
    "\n",
    "\n",
    "# df_result = pd.DataFrame(result,columns=['sex'])\n",
    "\n",
    "# result   np.in1d(df_result[\"Rvalue\"],'True')\n",
    "# input_data_EDA = pd.concat([input_data_EDA,df_result], axis=1)"
   ]
  },
  {
   "cell_type": "code",
   "execution_count": 9,
   "metadata": {},
   "outputs": [
    {
     "data": {
      "text/html": [
       "<div>\n",
       "<style scoped>\n",
       "    .dataframe tbody tr th:only-of-type {\n",
       "        vertical-align: middle;\n",
       "    }\n",
       "\n",
       "    .dataframe tbody tr th {\n",
       "        vertical-align: top;\n",
       "    }\n",
       "\n",
       "    .dataframe thead th {\n",
       "        text-align: right;\n",
       "    }\n",
       "</style>\n",
       "<table border=\"1\" class=\"dataframe\">\n",
       "  <thead>\n",
       "    <tr style=\"text-align: right;\">\n",
       "      <th></th>\n",
       "      <th>drugName</th>\n",
       "      <th>condition</th>\n",
       "      <th>review</th>\n",
       "      <th>rating</th>\n",
       "      <th>date</th>\n",
       "      <th>usefulCount</th>\n",
       "      <th>sex</th>\n",
       "    </tr>\n",
       "  </thead>\n",
       "  <tbody>\n",
       "    <tr>\n",
       "      <th>206461</th>\n",
       "      <td>Valsartan</td>\n",
       "      <td>Left Ventricular Dysfunction</td>\n",
       "      <td>\"It has no side effect, I take it in combinati...</td>\n",
       "      <td>9</td>\n",
       "      <td>May 20, 2012</td>\n",
       "      <td>27</td>\n",
       "      <td>Male</td>\n",
       "    </tr>\n",
       "    <tr>\n",
       "      <th>95260</th>\n",
       "      <td>Guanfacine</td>\n",
       "      <td>ADHD</td>\n",
       "      <td>\"My son is halfway through his fourth week of ...</td>\n",
       "      <td>8</td>\n",
       "      <td>April 27, 2010</td>\n",
       "      <td>192</td>\n",
       "      <td>Male</td>\n",
       "    </tr>\n",
       "    <tr>\n",
       "      <th>92703</th>\n",
       "      <td>Lybrel</td>\n",
       "      <td>Birth Control</td>\n",
       "      <td>\"I used to take another oral contraceptive, wh...</td>\n",
       "      <td>5</td>\n",
       "      <td>December 14, 2009</td>\n",
       "      <td>17</td>\n",
       "      <td>Female</td>\n",
       "    </tr>\n",
       "    <tr>\n",
       "      <th>138000</th>\n",
       "      <td>Ortho Evra</td>\n",
       "      <td>Birth Control</td>\n",
       "      <td>\"This is my first time using any form of birth...</td>\n",
       "      <td>8</td>\n",
       "      <td>November 3, 2015</td>\n",
       "      <td>10</td>\n",
       "      <td>Female</td>\n",
       "    </tr>\n",
       "    <tr>\n",
       "      <th>35696</th>\n",
       "      <td>Buprenorphine / naloxone</td>\n",
       "      <td>Opiate Dependence</td>\n",
       "      <td>\"Suboxone has completely turned my life around...</td>\n",
       "      <td>9</td>\n",
       "      <td>November 27, 2016</td>\n",
       "      <td>37</td>\n",
       "      <td>Male</td>\n",
       "    </tr>\n",
       "    <tr>\n",
       "      <th>155963</th>\n",
       "      <td>Cialis</td>\n",
       "      <td>Benign Prostatic Hyperplasia</td>\n",
       "      <td>\"2nd day on 5mg started to work with rock hard...</td>\n",
       "      <td>2</td>\n",
       "      <td>November 28, 2015</td>\n",
       "      <td>43</td>\n",
       "      <td>Neutral</td>\n",
       "    </tr>\n",
       "    <tr>\n",
       "      <th>165907</th>\n",
       "      <td>Levonorgestrel</td>\n",
       "      <td>Emergency Contraception</td>\n",
       "      <td>\"He pulled out, but he cummed a bit in me. I t...</td>\n",
       "      <td>1</td>\n",
       "      <td>March 7, 2017</td>\n",
       "      <td>5</td>\n",
       "      <td>Male</td>\n",
       "    </tr>\n",
       "    <tr>\n",
       "      <th>102654</th>\n",
       "      <td>Aripiprazole</td>\n",
       "      <td>Bipolar Disorde</td>\n",
       "      <td>\"Abilify changed my life. There is hope. I was...</td>\n",
       "      <td>10</td>\n",
       "      <td>March 14, 2015</td>\n",
       "      <td>32</td>\n",
       "      <td>Neutral</td>\n",
       "    </tr>\n",
       "    <tr>\n",
       "      <th>74811</th>\n",
       "      <td>Keppra</td>\n",
       "      <td>Epilepsy</td>\n",
       "      <td>\" I Ve had  nothing but problems with the Kepp...</td>\n",
       "      <td>1</td>\n",
       "      <td>August 9, 2016</td>\n",
       "      <td>11</td>\n",
       "      <td>Neutral</td>\n",
       "    </tr>\n",
       "    <tr>\n",
       "      <th>48928</th>\n",
       "      <td>Ethinyl estradiol / levonorgestrel</td>\n",
       "      <td>Birth Control</td>\n",
       "      <td>\"I had been on the pill for many years. When m...</td>\n",
       "      <td>8</td>\n",
       "      <td>December 8, 2016</td>\n",
       "      <td>1</td>\n",
       "      <td>Female</td>\n",
       "    </tr>\n",
       "    <tr>\n",
       "      <th>29607</th>\n",
       "      <td>Topiramate</td>\n",
       "      <td>Migraine Prevention</td>\n",
       "      <td>\"I have been on this medication almost two wee...</td>\n",
       "      <td>9</td>\n",
       "      <td>January 1, 2015</td>\n",
       "      <td>19</td>\n",
       "      <td>Neutral</td>\n",
       "    </tr>\n",
       "    <tr>\n",
       "      <th>75612</th>\n",
       "      <td>L-methylfolate</td>\n",
       "      <td>Depression</td>\n",
       "      <td>\"I have taken anti-depressants for years, with...</td>\n",
       "      <td>10</td>\n",
       "      <td>March 9, 2017</td>\n",
       "      <td>54</td>\n",
       "      <td>Neutral</td>\n",
       "    </tr>\n",
       "    <tr>\n",
       "      <th>191290</th>\n",
       "      <td>Pentasa</td>\n",
       "      <td>Crohn's Disease</td>\n",
       "      <td>\"I had Crohn&amp;#039;s with a resection 30 years ...</td>\n",
       "      <td>4</td>\n",
       "      <td>July 6, 2013</td>\n",
       "      <td>8</td>\n",
       "      <td>Neutral</td>\n",
       "    </tr>\n",
       "    <tr>\n",
       "      <th>221320</th>\n",
       "      <td>Dextromethorphan</td>\n",
       "      <td>Cough</td>\n",
       "      <td>\"Have a little bit of a lingering cough from a...</td>\n",
       "      <td>4</td>\n",
       "      <td>September 7, 2017</td>\n",
       "      <td>1</td>\n",
       "      <td>Neutral</td>\n",
       "    </tr>\n",
       "    <tr>\n",
       "      <th>98494</th>\n",
       "      <td>Nexplanon</td>\n",
       "      <td>Birth Control</td>\n",
       "      <td>\"Started Nexplanon 2 months ago because I have...</td>\n",
       "      <td>3</td>\n",
       "      <td>August 7, 2014</td>\n",
       "      <td>10</td>\n",
       "      <td>Female</td>\n",
       "    </tr>\n",
       "    <tr>\n",
       "      <th>81890</th>\n",
       "      <td>Liraglutide</td>\n",
       "      <td>Obesity</td>\n",
       "      <td>\"I have been taking Saxenda since July 2016.  ...</td>\n",
       "      <td>9</td>\n",
       "      <td>January 19, 2017</td>\n",
       "      <td>20</td>\n",
       "      <td>Male</td>\n",
       "    </tr>\n",
       "    <tr>\n",
       "      <th>48188</th>\n",
       "      <td>Trimethoprim</td>\n",
       "      <td>Urinary Tract Infection</td>\n",
       "      <td>\"This drug worked very well for me and cleared...</td>\n",
       "      <td>9</td>\n",
       "      <td>September 22, 2017</td>\n",
       "      <td>0</td>\n",
       "      <td>Neutral</td>\n",
       "    </tr>\n",
       "    <tr>\n",
       "      <th>219869</th>\n",
       "      <td>Amitriptyline</td>\n",
       "      <td>ibromyalgia</td>\n",
       "      <td>\"I&amp;#039;ve been taking amitriptyline since Jan...</td>\n",
       "      <td>9</td>\n",
       "      <td>March 15, 2017</td>\n",
       "      <td>39</td>\n",
       "      <td>Neutral</td>\n",
       "    </tr>\n",
       "    <tr>\n",
       "      <th>212077</th>\n",
       "      <td>Lamotrigine</td>\n",
       "      <td>Bipolar Disorde</td>\n",
       "      <td>\"I&amp;#039;ve been on every medicine under the su...</td>\n",
       "      <td>10</td>\n",
       "      <td>November 9, 2014</td>\n",
       "      <td>18</td>\n",
       "      <td>Neutral</td>\n",
       "    </tr>\n",
       "    <tr>\n",
       "      <th>119705</th>\n",
       "      <td>Nilotinib</td>\n",
       "      <td>Chronic Myelogenous Leukemia</td>\n",
       "      <td>\"I have been on Tasigna for just over 3 years ...</td>\n",
       "      <td>10</td>\n",
       "      <td>September 1, 2015</td>\n",
       "      <td>11</td>\n",
       "      <td>Neutral</td>\n",
       "    </tr>\n",
       "    <tr>\n",
       "      <th>12372</th>\n",
       "      <td>Atripla</td>\n",
       "      <td>HIV Infection</td>\n",
       "      <td>\"Spring of 2008 I was hospitalized with pnuemo...</td>\n",
       "      <td>8</td>\n",
       "      <td>July 9, 2010</td>\n",
       "      <td>11</td>\n",
       "      <td>Neutral</td>\n",
       "    </tr>\n",
       "    <tr>\n",
       "      <th>231466</th>\n",
       "      <td>Trazodone</td>\n",
       "      <td>Insomnia</td>\n",
       "      <td>\"I have insomnia, it&amp;#039;s horrible. My story...</td>\n",
       "      <td>10</td>\n",
       "      <td>April 3, 2016</td>\n",
       "      <td>43</td>\n",
       "      <td>Male</td>\n",
       "    </tr>\n",
       "    <tr>\n",
       "      <th>227020</th>\n",
       "      <td>Etonogestrel</td>\n",
       "      <td>Birth Control</td>\n",
       "      <td>\"Nexplanon does its job. I can have worry free...</td>\n",
       "      <td>9</td>\n",
       "      <td>August 11, 2014</td>\n",
       "      <td>11</td>\n",
       "      <td>Female</td>\n",
       "    </tr>\n",
       "    <tr>\n",
       "      <th>41928</th>\n",
       "      <td>Etanercept</td>\n",
       "      <td>Rheumatoid Arthritis</td>\n",
       "      <td>\"I live in Western Australia and disturbed by ...</td>\n",
       "      <td>10</td>\n",
       "      <td>September 16, 2017</td>\n",
       "      <td>4</td>\n",
       "      <td>Male</td>\n",
       "    </tr>\n",
       "    <tr>\n",
       "      <th>213649</th>\n",
       "      <td>Tioconazole</td>\n",
       "      <td>Vaginal Yeast Infection</td>\n",
       "      <td>\"Do not use the cream that comes with this. It...</td>\n",
       "      <td>1</td>\n",
       "      <td>April 17, 2017</td>\n",
       "      <td>7</td>\n",
       "      <td>Neutral</td>\n",
       "    </tr>\n",
       "    <tr>\n",
       "      <th>51215</th>\n",
       "      <td>Azithromycin</td>\n",
       "      <td>Chlamydia Infection</td>\n",
       "      <td>\"Was prescribed one dose over the course of on...</td>\n",
       "      <td>7</td>\n",
       "      <td>December 14, 2015</td>\n",
       "      <td>7</td>\n",
       "      <td>Male</td>\n",
       "    </tr>\n",
       "    <tr>\n",
       "      <th>206180</th>\n",
       "      <td>Eflornithine</td>\n",
       "      <td>Hirsutism</td>\n",
       "      <td>\"I&amp;#039;m writing a second review on Vaniqa.  ...</td>\n",
       "      <td>10</td>\n",
       "      <td>May 11, 2014</td>\n",
       "      <td>99</td>\n",
       "      <td>Male</td>\n",
       "    </tr>\n",
       "    <tr>\n",
       "      <th>78563</th>\n",
       "      <td>Daytrana</td>\n",
       "      <td>ADHD</td>\n",
       "      <td>\"Hi all, My son who is 12 was diagnosed when h...</td>\n",
       "      <td>10</td>\n",
       "      <td>January 12, 2017</td>\n",
       "      <td>11</td>\n",
       "      <td>Male</td>\n",
       "    </tr>\n",
       "    <tr>\n",
       "      <th>132258</th>\n",
       "      <td>Ativan</td>\n",
       "      <td>Panic Disorde</td>\n",
       "      <td>\"Honestly, I have been taking ativan for 2 yea...</td>\n",
       "      <td>6</td>\n",
       "      <td>June 1, 2015</td>\n",
       "      <td>47</td>\n",
       "      <td>Neutral</td>\n",
       "    </tr>\n",
       "    <tr>\n",
       "      <th>27339</th>\n",
       "      <td>Imitrex</td>\n",
       "      <td>Migraine</td>\n",
       "      <td>\"At first I suffered through them. This includ...</td>\n",
       "      <td>8</td>\n",
       "      <td>October 16, 2012</td>\n",
       "      <td>6</td>\n",
       "      <td>Neutral</td>\n",
       "    </tr>\n",
       "    <tr>\n",
       "      <th>...</th>\n",
       "      <td>...</td>\n",
       "      <td>...</td>\n",
       "      <td>...</td>\n",
       "      <td>...</td>\n",
       "      <td>...</td>\n",
       "      <td>...</td>\n",
       "      <td>...</td>\n",
       "    </tr>\n",
       "    <tr>\n",
       "      <th>181920</th>\n",
       "      <td>Inderal</td>\n",
       "      <td>Ventricular Tachycardia</td>\n",
       "      <td>\"Doc prescribed this medication to control my ...</td>\n",
       "      <td>3</td>\n",
       "      <td>January 23, 2014</td>\n",
       "      <td>6</td>\n",
       "      <td>Neutral</td>\n",
       "    </tr>\n",
       "    <tr>\n",
       "      <th>76151</th>\n",
       "      <td>Portia</td>\n",
       "      <td>Birth Control</td>\n",
       "      <td>\"I switched to Portia 12 days ago when I start...</td>\n",
       "      <td>1</td>\n",
       "      <td>January 28, 2014</td>\n",
       "      <td>9</td>\n",
       "      <td>Female</td>\n",
       "    </tr>\n",
       "    <tr>\n",
       "      <th>73058</th>\n",
       "      <td>Ethinyl estradiol / norethindrone</td>\n",
       "      <td>Birth Control</td>\n",
       "      <td>\"When I first starting taking Lo Loestrin Fe, ...</td>\n",
       "      <td>10</td>\n",
       "      <td>April 20, 2015</td>\n",
       "      <td>13</td>\n",
       "      <td>Female</td>\n",
       "    </tr>\n",
       "    <tr>\n",
       "      <th>183202</th>\n",
       "      <td>Cymbalta</td>\n",
       "      <td>Anxiety</td>\n",
       "      <td>\"I have been taking Cymbalta for 15 months now...</td>\n",
       "      <td>9</td>\n",
       "      <td>June 10, 2013</td>\n",
       "      <td>89</td>\n",
       "      <td>Male</td>\n",
       "    </tr>\n",
       "    <tr>\n",
       "      <th>148859</th>\n",
       "      <td>Mirena</td>\n",
       "      <td>Birth Control</td>\n",
       "      <td>\"My experience: Painful insertion but I expect...</td>\n",
       "      <td>10</td>\n",
       "      <td>January 26, 2016</td>\n",
       "      <td>4</td>\n",
       "      <td>Neutral</td>\n",
       "    </tr>\n",
       "    <tr>\n",
       "      <th>88991</th>\n",
       "      <td>Singulair</td>\n",
       "      <td>Asthma</td>\n",
       "      <td>\"This really did help with my allergies and as...</td>\n",
       "      <td>5</td>\n",
       "      <td>September 21, 2012</td>\n",
       "      <td>36</td>\n",
       "      <td>Neutral</td>\n",
       "    </tr>\n",
       "    <tr>\n",
       "      <th>109111</th>\n",
       "      <td>Nexplanon</td>\n",
       "      <td>Birth Control</td>\n",
       "      <td>\"I have had the Nexplanon since Dec. 27, 2016 ...</td>\n",
       "      <td>6</td>\n",
       "      <td>April 6, 2017</td>\n",
       "      <td>0</td>\n",
       "      <td>Male</td>\n",
       "    </tr>\n",
       "    <tr>\n",
       "      <th>117030</th>\n",
       "      <td>Synvisc-One</td>\n",
       "      <td>Osteoarthritis</td>\n",
       "      <td>\"I need bi-lateral knee replacement but due to...</td>\n",
       "      <td>2</td>\n",
       "      <td>April 27, 2017</td>\n",
       "      <td>11</td>\n",
       "      <td>Neutral</td>\n",
       "    </tr>\n",
       "    <tr>\n",
       "      <th>161838</th>\n",
       "      <td>Ciprofloxacin</td>\n",
       "      <td>Bladder Infection</td>\n",
       "      <td>\"POISON....two days on this med &amp;amp; I though...</td>\n",
       "      <td>1</td>\n",
       "      <td>November 28, 2017</td>\n",
       "      <td>1</td>\n",
       "      <td>Neutral</td>\n",
       "    </tr>\n",
       "    <tr>\n",
       "      <th>176146</th>\n",
       "      <td>Lorazepam</td>\n",
       "      <td>Anxiety</td>\n",
       "      <td>\"About 4 years ago I started having early-morn...</td>\n",
       "      <td>8</td>\n",
       "      <td>November 21, 2017</td>\n",
       "      <td>0</td>\n",
       "      <td>Female</td>\n",
       "    </tr>\n",
       "    <tr>\n",
       "      <th>18421</th>\n",
       "      <td>Zolpidem</td>\n",
       "      <td>Insomnia</td>\n",
       "      <td>\"I started taking this medication 10 years ago...</td>\n",
       "      <td>10</td>\n",
       "      <td>November 16, 2008</td>\n",
       "      <td>103</td>\n",
       "      <td>Neutral</td>\n",
       "    </tr>\n",
       "    <tr>\n",
       "      <th>86533</th>\n",
       "      <td>Invokana</td>\n",
       "      <td>Diabetes, Type 2</td>\n",
       "      <td>\"I just got diagnosed with type 2. My doctor p...</td>\n",
       "      <td>9</td>\n",
       "      <td>October 23, 2015</td>\n",
       "      <td>47</td>\n",
       "      <td>Neutral</td>\n",
       "    </tr>\n",
       "    <tr>\n",
       "      <th>56907</th>\n",
       "      <td>Roxicodone Intensol</td>\n",
       "      <td>Chronic Pain</td>\n",
       "      <td>\"Used with my throat cancer and it helped numb...</td>\n",
       "      <td>10</td>\n",
       "      <td>August 16, 2016</td>\n",
       "      <td>22</td>\n",
       "      <td>Neutral</td>\n",
       "    </tr>\n",
       "    <tr>\n",
       "      <th>183962</th>\n",
       "      <td>Hydroxyzine</td>\n",
       "      <td>Sedation</td>\n",
       "      <td>\"Honestly , This works pretty well for me. It ...</td>\n",
       "      <td>10</td>\n",
       "      <td>September 13, 2017</td>\n",
       "      <td>8</td>\n",
       "      <td>Neutral</td>\n",
       "    </tr>\n",
       "    <tr>\n",
       "      <th>52489</th>\n",
       "      <td>Armour Thyroid</td>\n",
       "      <td>Underactive Thyroid</td>\n",
       "      <td>\"Had taken Armour Thyroid for 20 years but sta...</td>\n",
       "      <td>1</td>\n",
       "      <td>January 31, 2016</td>\n",
       "      <td>87</td>\n",
       "      <td>Neutral</td>\n",
       "    </tr>\n",
       "    <tr>\n",
       "      <th>229036</th>\n",
       "      <td>Tadalafil</td>\n",
       "      <td>Erectile Dysfunction</td>\n",
       "      <td>\"I&amp;#039;m a 59 year old male who has experienc...</td>\n",
       "      <td>9</td>\n",
       "      <td>November 22, 2014</td>\n",
       "      <td>36</td>\n",
       "      <td>Male</td>\n",
       "    </tr>\n",
       "    <tr>\n",
       "      <th>228492</th>\n",
       "      <td>Geodon</td>\n",
       "      <td>Bipolar Disorde</td>\n",
       "      <td>\"I was in a very bad place at the time I start...</td>\n",
       "      <td>3</td>\n",
       "      <td>July 25, 2016</td>\n",
       "      <td>5</td>\n",
       "      <td>Neutral</td>\n",
       "    </tr>\n",
       "    <tr>\n",
       "      <th>121154</th>\n",
       "      <td>Venlafaxine</td>\n",
       "      <td>Panic Disorde</td>\n",
       "      <td>\"Had panic attacks and social anxiety starting...</td>\n",
       "      <td>9</td>\n",
       "      <td>November 10, 2016</td>\n",
       "      <td>25</td>\n",
       "      <td>Neutral</td>\n",
       "    </tr>\n",
       "    <tr>\n",
       "      <th>200957</th>\n",
       "      <td>Alcaftadine</td>\n",
       "      <td>Conjunctivitis, Allergic</td>\n",
       "      <td>\"Used this a month ago for allergic conjunctiv...</td>\n",
       "      <td>1</td>\n",
       "      <td>September 21, 2014</td>\n",
       "      <td>12</td>\n",
       "      <td>Neutral</td>\n",
       "    </tr>\n",
       "    <tr>\n",
       "      <th>93069</th>\n",
       "      <td>Vortioxetine</td>\n",
       "      <td>Depression</td>\n",
       "      <td>\"This is the third med I&amp;#039;ve tried for anx...</td>\n",
       "      <td>2</td>\n",
       "      <td>July 17, 2016</td>\n",
       "      <td>33</td>\n",
       "      <td>Neutral</td>\n",
       "    </tr>\n",
       "    <tr>\n",
       "      <th>132177</th>\n",
       "      <td>Ativan</td>\n",
       "      <td>Anxiety</td>\n",
       "      <td>\"I was super against taking medication. I&amp;#039...</td>\n",
       "      <td>9</td>\n",
       "      <td>August 16, 2016</td>\n",
       "      <td>61</td>\n",
       "      <td>Neutral</td>\n",
       "    </tr>\n",
       "    <tr>\n",
       "      <th>45410</th>\n",
       "      <td>Fluoxetine</td>\n",
       "      <td>Obsessive Compulsive Disorde</td>\n",
       "      <td>\"I have been off Prozac for about 4 weeks now....</td>\n",
       "      <td>8</td>\n",
       "      <td>January 21, 2015</td>\n",
       "      <td>22</td>\n",
       "      <td>Male</td>\n",
       "    </tr>\n",
       "    <tr>\n",
       "      <th>105263</th>\n",
       "      <td>Carbamazepine</td>\n",
       "      <td>Trigeminal Neuralgia</td>\n",
       "      <td>\"Up to 800mg seems to work about once every 2n...</td>\n",
       "      <td>1</td>\n",
       "      <td>January 31, 2016</td>\n",
       "      <td>10</td>\n",
       "      <td>Neutral</td>\n",
       "    </tr>\n",
       "    <tr>\n",
       "      <th>103458</th>\n",
       "      <td>Tekturna</td>\n",
       "      <td>High Blood Pressure</td>\n",
       "      <td>\"I have only been on Tekturna for 9 days. The ...</td>\n",
       "      <td>7</td>\n",
       "      <td>February 7, 2010</td>\n",
       "      <td>18</td>\n",
       "      <td>Neutral</td>\n",
       "    </tr>\n",
       "    <tr>\n",
       "      <th>164345</th>\n",
       "      <td>Junel 1.5 / 30</td>\n",
       "      <td>Birth Control</td>\n",
       "      <td>\"This would be my second month on Junel. I&amp;#03...</td>\n",
       "      <td>6</td>\n",
       "      <td>May 27, 2015</td>\n",
       "      <td>0</td>\n",
       "      <td>Female</td>\n",
       "    </tr>\n",
       "    <tr>\n",
       "      <th>191035</th>\n",
       "      <td>Campral</td>\n",
       "      <td>Alcohol Dependence</td>\n",
       "      <td>\"I wrote my first report in Mid-October of 201...</td>\n",
       "      <td>10</td>\n",
       "      <td>May 31, 2015</td>\n",
       "      <td>125</td>\n",
       "      <td>Male</td>\n",
       "    </tr>\n",
       "    <tr>\n",
       "      <th>127085</th>\n",
       "      <td>Metoclopramide</td>\n",
       "      <td>Nausea/Vomiting</td>\n",
       "      <td>\"I was given this in IV before surgey. I immed...</td>\n",
       "      <td>1</td>\n",
       "      <td>November 1, 2011</td>\n",
       "      <td>34</td>\n",
       "      <td>Neutral</td>\n",
       "    </tr>\n",
       "    <tr>\n",
       "      <th>187382</th>\n",
       "      <td>Orencia</td>\n",
       "      <td>Rheumatoid Arthritis</td>\n",
       "      <td>\"Limited improvement after 4 months, developed...</td>\n",
       "      <td>2</td>\n",
       "      <td>March 15, 2014</td>\n",
       "      <td>35</td>\n",
       "      <td>Neutral</td>\n",
       "    </tr>\n",
       "    <tr>\n",
       "      <th>47128</th>\n",
       "      <td>Thyroid desiccated</td>\n",
       "      <td>Underactive Thyroid</td>\n",
       "      <td>\"I&amp;#039;ve been on thyroid medication 49 years...</td>\n",
       "      <td>10</td>\n",
       "      <td>September 19, 2015</td>\n",
       "      <td>79</td>\n",
       "      <td>Female</td>\n",
       "    </tr>\n",
       "    <tr>\n",
       "      <th>215220</th>\n",
       "      <td>Lubiprostone</td>\n",
       "      <td>Constipation, Chronic</td>\n",
       "      <td>\"I&amp;#039;ve had chronic constipation all my adu...</td>\n",
       "      <td>9</td>\n",
       "      <td>December 13, 2014</td>\n",
       "      <td>116</td>\n",
       "      <td>Neutral</td>\n",
       "    </tr>\n",
       "  </tbody>\n",
       "</table>\n",
       "<p>161297 rows × 7 columns</p>\n",
       "</div>"
      ],
      "text/plain": [
       "                                  drugName                     condition  \\\n",
       "206461                           Valsartan  Left Ventricular Dysfunction   \n",
       "95260                           Guanfacine                          ADHD   \n",
       "92703                               Lybrel                 Birth Control   \n",
       "138000                          Ortho Evra                 Birth Control   \n",
       "35696             Buprenorphine / naloxone             Opiate Dependence   \n",
       "155963                              Cialis  Benign Prostatic Hyperplasia   \n",
       "165907                      Levonorgestrel       Emergency Contraception   \n",
       "102654                        Aripiprazole               Bipolar Disorde   \n",
       "74811                               Keppra                      Epilepsy   \n",
       "48928   Ethinyl estradiol / levonorgestrel                 Birth Control   \n",
       "29607                           Topiramate           Migraine Prevention   \n",
       "75612                       L-methylfolate                    Depression   \n",
       "191290                             Pentasa               Crohn's Disease   \n",
       "221320                    Dextromethorphan                         Cough   \n",
       "98494                            Nexplanon                 Birth Control   \n",
       "81890                          Liraglutide                       Obesity   \n",
       "48188                         Trimethoprim       Urinary Tract Infection   \n",
       "219869                       Amitriptyline                   ibromyalgia   \n",
       "212077                         Lamotrigine               Bipolar Disorde   \n",
       "119705                           Nilotinib  Chronic Myelogenous Leukemia   \n",
       "12372                              Atripla                 HIV Infection   \n",
       "231466                           Trazodone                      Insomnia   \n",
       "227020                        Etonogestrel                 Birth Control   \n",
       "41928                           Etanercept          Rheumatoid Arthritis   \n",
       "213649                         Tioconazole       Vaginal Yeast Infection   \n",
       "51215                         Azithromycin           Chlamydia Infection   \n",
       "206180                        Eflornithine                     Hirsutism   \n",
       "78563                             Daytrana                          ADHD   \n",
       "132258                              Ativan                 Panic Disorde   \n",
       "27339                              Imitrex                      Migraine   \n",
       "...                                    ...                           ...   \n",
       "181920                             Inderal       Ventricular Tachycardia   \n",
       "76151                               Portia                 Birth Control   \n",
       "73058    Ethinyl estradiol / norethindrone                 Birth Control   \n",
       "183202                            Cymbalta                       Anxiety   \n",
       "148859                              Mirena                 Birth Control   \n",
       "88991                            Singulair                        Asthma   \n",
       "109111                           Nexplanon                 Birth Control   \n",
       "117030                         Synvisc-One                Osteoarthritis   \n",
       "161838                       Ciprofloxacin             Bladder Infection   \n",
       "176146                           Lorazepam                       Anxiety   \n",
       "18421                             Zolpidem                      Insomnia   \n",
       "86533                             Invokana              Diabetes, Type 2   \n",
       "56907                  Roxicodone Intensol                  Chronic Pain   \n",
       "183962                         Hydroxyzine                      Sedation   \n",
       "52489                       Armour Thyroid           Underactive Thyroid   \n",
       "229036                           Tadalafil          Erectile Dysfunction   \n",
       "228492                              Geodon               Bipolar Disorde   \n",
       "121154                         Venlafaxine                 Panic Disorde   \n",
       "200957                         Alcaftadine      Conjunctivitis, Allergic   \n",
       "93069                         Vortioxetine                    Depression   \n",
       "132177                              Ativan                       Anxiety   \n",
       "45410                           Fluoxetine  Obsessive Compulsive Disorde   \n",
       "105263                       Carbamazepine          Trigeminal Neuralgia   \n",
       "103458                            Tekturna           High Blood Pressure   \n",
       "164345                      Junel 1.5 / 30                 Birth Control   \n",
       "191035                             Campral            Alcohol Dependence   \n",
       "127085                      Metoclopramide               Nausea/Vomiting   \n",
       "187382                             Orencia          Rheumatoid Arthritis   \n",
       "47128                   Thyroid desiccated           Underactive Thyroid   \n",
       "215220                        Lubiprostone         Constipation, Chronic   \n",
       "\n",
       "                                                   review  rating  \\\n",
       "206461  \"It has no side effect, I take it in combinati...       9   \n",
       "95260   \"My son is halfway through his fourth week of ...       8   \n",
       "92703   \"I used to take another oral contraceptive, wh...       5   \n",
       "138000  \"This is my first time using any form of birth...       8   \n",
       "35696   \"Suboxone has completely turned my life around...       9   \n",
       "155963  \"2nd day on 5mg started to work with rock hard...       2   \n",
       "165907  \"He pulled out, but he cummed a bit in me. I t...       1   \n",
       "102654  \"Abilify changed my life. There is hope. I was...      10   \n",
       "74811   \" I Ve had  nothing but problems with the Kepp...       1   \n",
       "48928   \"I had been on the pill for many years. When m...       8   \n",
       "29607   \"I have been on this medication almost two wee...       9   \n",
       "75612   \"I have taken anti-depressants for years, with...      10   \n",
       "191290  \"I had Crohn&#039;s with a resection 30 years ...       4   \n",
       "221320  \"Have a little bit of a lingering cough from a...       4   \n",
       "98494   \"Started Nexplanon 2 months ago because I have...       3   \n",
       "81890   \"I have been taking Saxenda since July 2016.  ...       9   \n",
       "48188   \"This drug worked very well for me and cleared...       9   \n",
       "219869  \"I&#039;ve been taking amitriptyline since Jan...       9   \n",
       "212077  \"I&#039;ve been on every medicine under the su...      10   \n",
       "119705  \"I have been on Tasigna for just over 3 years ...      10   \n",
       "12372   \"Spring of 2008 I was hospitalized with pnuemo...       8   \n",
       "231466  \"I have insomnia, it&#039;s horrible. My story...      10   \n",
       "227020  \"Nexplanon does its job. I can have worry free...       9   \n",
       "41928   \"I live in Western Australia and disturbed by ...      10   \n",
       "213649  \"Do not use the cream that comes with this. It...       1   \n",
       "51215   \"Was prescribed one dose over the course of on...       7   \n",
       "206180  \"I&#039;m writing a second review on Vaniqa.  ...      10   \n",
       "78563   \"Hi all, My son who is 12 was diagnosed when h...      10   \n",
       "132258  \"Honestly, I have been taking ativan for 2 yea...       6   \n",
       "27339   \"At first I suffered through them. This includ...       8   \n",
       "...                                                   ...     ...   \n",
       "181920  \"Doc prescribed this medication to control my ...       3   \n",
       "76151   \"I switched to Portia 12 days ago when I start...       1   \n",
       "73058   \"When I first starting taking Lo Loestrin Fe, ...      10   \n",
       "183202  \"I have been taking Cymbalta for 15 months now...       9   \n",
       "148859  \"My experience: Painful insertion but I expect...      10   \n",
       "88991   \"This really did help with my allergies and as...       5   \n",
       "109111  \"I have had the Nexplanon since Dec. 27, 2016 ...       6   \n",
       "117030  \"I need bi-lateral knee replacement but due to...       2   \n",
       "161838  \"POISON....two days on this med &amp; I though...       1   \n",
       "176146  \"About 4 years ago I started having early-morn...       8   \n",
       "18421   \"I started taking this medication 10 years ago...      10   \n",
       "86533   \"I just got diagnosed with type 2. My doctor p...       9   \n",
       "56907   \"Used with my throat cancer and it helped numb...      10   \n",
       "183962  \"Honestly , This works pretty well for me. It ...      10   \n",
       "52489   \"Had taken Armour Thyroid for 20 years but sta...       1   \n",
       "229036  \"I&#039;m a 59 year old male who has experienc...       9   \n",
       "228492  \"I was in a very bad place at the time I start...       3   \n",
       "121154  \"Had panic attacks and social anxiety starting...       9   \n",
       "200957  \"Used this a month ago for allergic conjunctiv...       1   \n",
       "93069   \"This is the third med I&#039;ve tried for anx...       2   \n",
       "132177  \"I was super against taking medication. I&#039...       9   \n",
       "45410   \"I have been off Prozac for about 4 weeks now....       8   \n",
       "105263  \"Up to 800mg seems to work about once every 2n...       1   \n",
       "103458  \"I have only been on Tekturna for 9 days. The ...       7   \n",
       "164345  \"This would be my second month on Junel. I&#03...       6   \n",
       "191035  \"I wrote my first report in Mid-October of 201...      10   \n",
       "127085  \"I was given this in IV before surgey. I immed...       1   \n",
       "187382  \"Limited improvement after 4 months, developed...       2   \n",
       "47128   \"I&#039;ve been on thyroid medication 49 years...      10   \n",
       "215220  \"I&#039;ve had chronic constipation all my adu...       9   \n",
       "\n",
       "                      date  usefulCount      sex  \n",
       "206461        May 20, 2012           27     Male  \n",
       "95260       April 27, 2010          192     Male  \n",
       "92703    December 14, 2009           17   Female  \n",
       "138000    November 3, 2015           10   Female  \n",
       "35696    November 27, 2016           37     Male  \n",
       "155963   November 28, 2015           43  Neutral  \n",
       "165907       March 7, 2017            5     Male  \n",
       "102654      March 14, 2015           32  Neutral  \n",
       "74811       August 9, 2016           11  Neutral  \n",
       "48928     December 8, 2016            1   Female  \n",
       "29607      January 1, 2015           19  Neutral  \n",
       "75612        March 9, 2017           54  Neutral  \n",
       "191290        July 6, 2013            8  Neutral  \n",
       "221320   September 7, 2017            1  Neutral  \n",
       "98494       August 7, 2014           10   Female  \n",
       "81890     January 19, 2017           20     Male  \n",
       "48188   September 22, 2017            0  Neutral  \n",
       "219869      March 15, 2017           39  Neutral  \n",
       "212077    November 9, 2014           18  Neutral  \n",
       "119705   September 1, 2015           11  Neutral  \n",
       "12372         July 9, 2010           11  Neutral  \n",
       "231466       April 3, 2016           43     Male  \n",
       "227020     August 11, 2014           11   Female  \n",
       "41928   September 16, 2017            4     Male  \n",
       "213649      April 17, 2017            7  Neutral  \n",
       "51215    December 14, 2015            7     Male  \n",
       "206180        May 11, 2014           99     Male  \n",
       "78563     January 12, 2017           11     Male  \n",
       "132258        June 1, 2015           47  Neutral  \n",
       "27339     October 16, 2012            6  Neutral  \n",
       "...                    ...          ...      ...  \n",
       "181920    January 23, 2014            6  Neutral  \n",
       "76151     January 28, 2014            9   Female  \n",
       "73058       April 20, 2015           13   Female  \n",
       "183202       June 10, 2013           89     Male  \n",
       "148859    January 26, 2016            4  Neutral  \n",
       "88991   September 21, 2012           36  Neutral  \n",
       "109111       April 6, 2017            0     Male  \n",
       "117030      April 27, 2017           11  Neutral  \n",
       "161838   November 28, 2017            1  Neutral  \n",
       "176146   November 21, 2017            0   Female  \n",
       "18421    November 16, 2008          103  Neutral  \n",
       "86533     October 23, 2015           47  Neutral  \n",
       "56907      August 16, 2016           22  Neutral  \n",
       "183962  September 13, 2017            8  Neutral  \n",
       "52489     January 31, 2016           87  Neutral  \n",
       "229036   November 22, 2014           36     Male  \n",
       "228492       July 25, 2016            5  Neutral  \n",
       "121154   November 10, 2016           25  Neutral  \n",
       "200957  September 21, 2014           12  Neutral  \n",
       "93069        July 17, 2016           33  Neutral  \n",
       "132177     August 16, 2016           61  Neutral  \n",
       "45410     January 21, 2015           22     Male  \n",
       "105263    January 31, 2016           10  Neutral  \n",
       "103458    February 7, 2010           18  Neutral  \n",
       "164345        May 27, 2015            0   Female  \n",
       "191035        May 31, 2015          125     Male  \n",
       "127085    November 1, 2011           34  Neutral  \n",
       "187382      March 15, 2014           35  Neutral  \n",
       "47128   September 19, 2015           79   Female  \n",
       "215220   December 13, 2014          116  Neutral  \n",
       "\n",
       "[161297 rows x 7 columns]"
      ]
     },
     "execution_count": 9,
     "metadata": {},
     "output_type": "execute_result"
    }
   ],
   "source": [
    "# input_data_EDA.condition.isnull().sum()\n",
    "# input_data_EDA\n",
    "# input_data_EDA = pd.concat([input_data_EDA,df_result], axis=1)\n",
    "# df_result.shape\n",
    "# input_data_EDA.isnull().sum()\n",
    "input_data_EDA"
   ]
  },
  {
   "cell_type": "code",
   "execution_count": 10,
   "metadata": {},
   "outputs": [
    {
     "data": {
      "text/plain": [
       "drugName         0\n",
       "condition      826\n",
       "review           0\n",
       "rating           0\n",
       "date             0\n",
       "usefulCount      0\n",
       "sex              0\n",
       "dtype: int64"
      ]
     },
     "execution_count": 10,
     "metadata": {},
     "output_type": "execute_result"
    }
   ],
   "source": [
    "# input_data_EDA.isnull().sum()\n",
    "# input_data_EDA.shape\n",
    "input_data_EDA.isnull().sum()"
   ]
  },
  {
   "cell_type": "code",
   "execution_count": 99,
   "metadata": {},
   "outputs": [],
   "source": [
    "chosen_drugs = input_data_EDA[input_data_EDA.drugName.isin(['levonorgestrel', 'etonogestrel', 'phentermine', 'sertraline', 'Gabapentin', 'Miconazole', 'Bupropion', 'Metronidazole', 'Clonazepam', 'Quetiapine'])]\n",
    "# for x in np.nditer(result):\n",
    "#     print(result)\n",
    "# (x for x in np.nditer(result)\n",
    "# df_result"
   ]
  },
  {
   "cell_type": "code",
   "execution_count": 100,
   "metadata": {},
   "outputs": [],
   "source": [
    "#Deleting the drug-id\n",
    "# chosen_drugs = chosen_drugs.drop(['Unnamed: 0'],axis=1)\n",
    "totalNo_NaNs_Condition = chosen_drugs.isnull().sum()#In total 29 NaNs are present for just the 'condition'\n",
    "indexOfNaNs_Condition = list(chosen_drugs.isnull().index)\n",
    "Total_NaNs = len(indexOfNaNs_Condition)#5653 total NaNs"
   ]
  },
  {
   "cell_type": "code",
   "execution_count": 101,
   "metadata": {},
   "outputs": [
    {
     "data": {
      "text/plain": [
       "drugName       0\n",
       "condition      7\n",
       "review         0\n",
       "rating         0\n",
       "date           0\n",
       "usefulCount    0\n",
       "sex            0\n",
       "dtype: int64"
      ]
     },
     "execution_count": 101,
     "metadata": {},
     "output_type": "execute_result"
    }
   ],
   "source": [
    "# chosen_drugs = chosen_drugs.drop(['Unnamed: 7'],axis=1)\n",
    "# lemma.lemmatize(\"Bacterial Vaginitis\")\n",
    "# conditions\n",
    "# chosen_drugs\n",
    "# chosen_drugs.dropna(axis=\"columns\")\n",
    "chosen_drugs.isnull().sum()"
   ]
  },
  {
   "cell_type": "code",
   "execution_count": 102,
   "metadata": {},
   "outputs": [],
   "source": [
    "# chosen_drugs.dropna(axis=\"columns\",how=\"all\").shape[0]\n",
    "chosen_nonull_drugs = chosen_drugs.dropna()"
   ]
  },
  {
   "cell_type": "code",
   "execution_count": 103,
   "metadata": {},
   "outputs": [
    {
     "data": {
      "text/plain": [
       "Gabapentin       1045\n",
       "Bupropion        1021\n",
       "Miconazole        999\n",
       "Metronidazole     921\n",
       "Quetiapine        830\n",
       "Clonazepam        830\n",
       "Name: drugName, dtype: int64"
      ]
     },
     "execution_count": 103,
     "metadata": {},
     "output_type": "execute_result"
    }
   ],
   "source": [
    "# chosen_drugs.shape\n",
    "chosen_nonull_drugs.drugName.value_counts() #final selected drug dataset with no NaNs."
   ]
  },
  {
   "cell_type": "code",
   "execution_count": null,
   "metadata": {},
   "outputs": [],
   "source": []
  },
  {
   "cell_type": "code",
   "execution_count": 19,
   "metadata": {},
   "outputs": [],
   "source": [
    "#Saving the data formatted so as to avoid rerunning the formatting step again and again\n",
    "import pickle"
   ]
  },
  {
   "cell_type": "code",
   "execution_count": 105,
   "metadata": {},
   "outputs": [],
   "source": [
    "save_formatted_Data = open(\"formatted_drug_Data.pickle\",\"wb\")#wb = write in bytes for Python 3 and above\n",
    "pickle.dump(chosen_nonull_drugs,save_formatted_Data)\n",
    "save_formatted_Data.close()"
   ]
  },
  {
   "cell_type": "code",
   "execution_count": 22,
   "metadata": {},
   "outputs": [
    {
     "name": "stderr",
     "output_type": "stream",
     "text": [
      "/home/sagar/miniconda3/lib/python3.6/site-packages/sklearn/cross_validation.py:41: DeprecationWarning: This module was deprecated in version 0.18 in favor of the model_selection module into which all the refactored classes and functions are moved. Also note that the interface of the new CV iterators are different from that of this module. This module will be removed in 0.20.\n",
      "  \"This module will be removed in 0.20.\", DeprecationWarning)\n"
     ]
    }
   ],
   "source": [
    "#Plotting for a parituclar drugName the performance over time\n",
    "import matplotlib.pyplot as plt\n",
    "from matplotlib import style\n",
    "style.use('ggplot')\n",
    "from sklearn.cluster import KMeans\n",
    "from sklearn import preprocessing, cross_validation"
   ]
  },
  {
   "cell_type": "code",
   "execution_count": 37,
   "metadata": {},
   "outputs": [
    {
     "data": {
      "text/html": [
       "<div>\n",
       "<style scoped>\n",
       "    .dataframe tbody tr th:only-of-type {\n",
       "        vertical-align: middle;\n",
       "    }\n",
       "\n",
       "    .dataframe tbody tr th {\n",
       "        vertical-align: top;\n",
       "    }\n",
       "\n",
       "    .dataframe thead th {\n",
       "        text-align: right;\n",
       "    }\n",
       "</style>\n",
       "<table border=\"1\" class=\"dataframe\">\n",
       "  <thead>\n",
       "    <tr style=\"text-align: right;\">\n",
       "      <th></th>\n",
       "      <th>drugName</th>\n",
       "      <th>condition</th>\n",
       "      <th>rating</th>\n",
       "      <th>date</th>\n",
       "      <th>usefulCount</th>\n",
       "      <th>sex</th>\n",
       "    </tr>\n",
       "  </thead>\n",
       "  <tbody>\n",
       "    <tr>\n",
       "      <th>173398</th>\n",
       "      <td>Clonazepam</td>\n",
       "      <td>Panic Disorde</td>\n",
       "      <td>9</td>\n",
       "      <td>April 1, 2008</td>\n",
       "      <td>30</td>\n",
       "      <td>Male</td>\n",
       "    </tr>\n",
       "    <tr>\n",
       "      <th>225508</th>\n",
       "      <td>Bupropion</td>\n",
       "      <td>Smoking Cessation</td>\n",
       "      <td>10</td>\n",
       "      <td>August 22, 2014</td>\n",
       "      <td>15</td>\n",
       "      <td>Neutral</td>\n",
       "    </tr>\n",
       "    <tr>\n",
       "      <th>225257</th>\n",
       "      <td>Bupropion</td>\n",
       "      <td>Depression</td>\n",
       "      <td>4</td>\n",
       "      <td>October 8, 2015</td>\n",
       "      <td>0</td>\n",
       "      <td>Neutral</td>\n",
       "    </tr>\n",
       "    <tr>\n",
       "      <th>31040</th>\n",
       "      <td>Miconazole</td>\n",
       "      <td>Vaginal Yeast Infection</td>\n",
       "      <td>1</td>\n",
       "      <td>January 31, 2017</td>\n",
       "      <td>6</td>\n",
       "      <td>Neutral</td>\n",
       "    </tr>\n",
       "    <tr>\n",
       "      <th>224842</th>\n",
       "      <td>Bupropion</td>\n",
       "      <td>Depression</td>\n",
       "      <td>10</td>\n",
       "      <td>January 2, 2017</td>\n",
       "      <td>14</td>\n",
       "      <td>Male</td>\n",
       "    </tr>\n",
       "  </tbody>\n",
       "</table>\n",
       "</div>"
      ],
      "text/plain": [
       "          drugName                condition  rating              date  \\\n",
       "173398  Clonazepam            Panic Disorde       9     April 1, 2008   \n",
       "225508   Bupropion        Smoking Cessation      10   August 22, 2014   \n",
       "225257   Bupropion               Depression       4   October 8, 2015   \n",
       "31040   Miconazole  Vaginal Yeast Infection       1  January 31, 2017   \n",
       "224842   Bupropion               Depression      10   January 2, 2017   \n",
       "\n",
       "        usefulCount      sex  \n",
       "173398           30     Male  \n",
       "225508           15  Neutral  \n",
       "225257            0  Neutral  \n",
       "31040             6  Neutral  \n",
       "224842           14     Male  "
      ]
     },
     "execution_count": 37,
     "metadata": {},
     "output_type": "execute_result"
    }
   ],
   "source": [
    "# \n",
    "# chosen_nonull_drugs_noreview.head()\n",
    "chosen_nonull_drugs_noreview = chosen_nonull_drugs.drop([\"review\"],1)\n",
    "chosen_nonull_drugs_noreview.head()"
   ]
  },
  {
   "cell_type": "code",
   "execution_count": 38,
   "metadata": {},
   "outputs": [
    {
     "data": {
      "text/plain": [
       "drugName       object\n",
       "condition      object\n",
       "rating          int64\n",
       "date           object\n",
       "usefulCount     int64\n",
       "sex            object\n",
       "dtype: object"
      ]
     },
     "execution_count": 38,
     "metadata": {},
     "output_type": "execute_result"
    }
   ],
   "source": [
    "chosen_nonull_drugs_noreview.dtypes"
   ]
  },
  {
   "cell_type": "code",
   "execution_count": 40,
   "metadata": {},
   "outputs": [],
   "source": [
    "chosen_nonull_drugs_noreview['date'] = pd.to_datetime(chosen_nonull_drugs_noreview.date)"
   ]
  },
  {
   "cell_type": "code",
   "execution_count": 41,
   "metadata": {},
   "outputs": [
    {
     "data": {
      "text/plain": [
       "drugName               object\n",
       "condition              object\n",
       "rating                  int64\n",
       "date           datetime64[ns]\n",
       "usefulCount             int64\n",
       "sex                    object\n",
       "dtype: object"
      ]
     },
     "execution_count": 41,
     "metadata": {},
     "output_type": "execute_result"
    }
   ],
   "source": [
    "chosen_nonull_drugs_noreview.dtypes"
   ]
  },
  {
   "cell_type": "code",
   "execution_count": 42,
   "metadata": {},
   "outputs": [
    {
     "data": {
      "text/html": [
       "<div>\n",
       "<style scoped>\n",
       "    .dataframe tbody tr th:only-of-type {\n",
       "        vertical-align: middle;\n",
       "    }\n",
       "\n",
       "    .dataframe tbody tr th {\n",
       "        vertical-align: top;\n",
       "    }\n",
       "\n",
       "    .dataframe thead th {\n",
       "        text-align: right;\n",
       "    }\n",
       "</style>\n",
       "<table border=\"1\" class=\"dataframe\">\n",
       "  <thead>\n",
       "    <tr style=\"text-align: right;\">\n",
       "      <th></th>\n",
       "      <th>drugName</th>\n",
       "      <th>condition</th>\n",
       "      <th>rating</th>\n",
       "      <th>date</th>\n",
       "      <th>usefulCount</th>\n",
       "      <th>sex</th>\n",
       "    </tr>\n",
       "  </thead>\n",
       "  <tbody>\n",
       "    <tr>\n",
       "      <th>173398</th>\n",
       "      <td>Clonazepam</td>\n",
       "      <td>Panic Disorde</td>\n",
       "      <td>9</td>\n",
       "      <td>2008-04-01</td>\n",
       "      <td>30</td>\n",
       "      <td>Male</td>\n",
       "    </tr>\n",
       "    <tr>\n",
       "      <th>225508</th>\n",
       "      <td>Bupropion</td>\n",
       "      <td>Smoking Cessation</td>\n",
       "      <td>10</td>\n",
       "      <td>2014-08-22</td>\n",
       "      <td>15</td>\n",
       "      <td>Neutral</td>\n",
       "    </tr>\n",
       "    <tr>\n",
       "      <th>225257</th>\n",
       "      <td>Bupropion</td>\n",
       "      <td>Depression</td>\n",
       "      <td>4</td>\n",
       "      <td>2015-10-08</td>\n",
       "      <td>0</td>\n",
       "      <td>Neutral</td>\n",
       "    </tr>\n",
       "    <tr>\n",
       "      <th>31040</th>\n",
       "      <td>Miconazole</td>\n",
       "      <td>Vaginal Yeast Infection</td>\n",
       "      <td>1</td>\n",
       "      <td>2017-01-31</td>\n",
       "      <td>6</td>\n",
       "      <td>Neutral</td>\n",
       "    </tr>\n",
       "    <tr>\n",
       "      <th>224842</th>\n",
       "      <td>Bupropion</td>\n",
       "      <td>Depression</td>\n",
       "      <td>10</td>\n",
       "      <td>2017-01-02</td>\n",
       "      <td>14</td>\n",
       "      <td>Male</td>\n",
       "    </tr>\n",
       "  </tbody>\n",
       "</table>\n",
       "</div>"
      ],
      "text/plain": [
       "          drugName                condition  rating       date  usefulCount  \\\n",
       "173398  Clonazepam            Panic Disorde       9 2008-04-01           30   \n",
       "225508   Bupropion        Smoking Cessation      10 2014-08-22           15   \n",
       "225257   Bupropion               Depression       4 2015-10-08            0   \n",
       "31040   Miconazole  Vaginal Yeast Infection       1 2017-01-31            6   \n",
       "224842   Bupropion               Depression      10 2017-01-02           14   \n",
       "\n",
       "            sex  \n",
       "173398     Male  \n",
       "225508  Neutral  \n",
       "225257  Neutral  \n",
       "31040   Neutral  \n",
       "224842     Male  "
      ]
     },
     "execution_count": 42,
     "metadata": {},
     "output_type": "execute_result"
    }
   ],
   "source": [
    "chosen_nonull_drugs_noreview.head()"
   ]
  },
  {
   "cell_type": "code",
   "execution_count": 44,
   "metadata": {},
   "outputs": [
    {
     "data": {
      "text/plain": [
       "Timestamp('2017-12-11 00:00:00')"
      ]
     },
     "execution_count": 44,
     "metadata": {},
     "output_type": "execute_result"
    }
   ],
   "source": [
    "chosen_nonull_drugs_noreview.date.max()"
   ]
  },
  {
   "cell_type": "code",
   "execution_count": 45,
   "metadata": {},
   "outputs": [
    {
     "data": {
      "text/plain": [
       "Timestamp('2008-02-25 00:00:00')"
      ]
     },
     "execution_count": 45,
     "metadata": {},
     "output_type": "execute_result"
    }
   ],
   "source": [
    "chosen_nonull_drugs_noreview.date.min()"
   ]
  },
  {
   "cell_type": "code",
   "execution_count": 46,
   "metadata": {},
   "outputs": [
    {
     "data": {
      "text/plain": [
       "Timedelta('3577 days 00:00:00')"
      ]
     },
     "execution_count": 46,
     "metadata": {},
     "output_type": "execute_result"
    }
   ],
   "source": [
    "chosen_nonull_drugs_noreview.date.max() - chosen_nonull_drugs_noreview.date.min()"
   ]
  },
  {
   "cell_type": "code",
   "execution_count": 53,
   "metadata": {},
   "outputs": [
    {
     "data": {
      "text/plain": [
       "<matplotlib.axes._subplots.AxesSubplot at 0x7f8362862c88>"
      ]
     },
     "execution_count": 53,
     "metadata": {},
     "output_type": "execute_result"
    },
    {
     "data": {
      "image/png": "[encoded data removed]",
      "text/plain": [
       "<Figure size 432x288 with 1 Axes>"
      ]
     },
     "metadata": {},
     "output_type": "display_data"
    }
   ],
   "source": [
    "%matplotlib inline\n",
    "chosen_nonull_drugs_noreview.drugName.value_counts().plot()"
   ]
  },
  {
   "cell_type": "markdown",
   "metadata": {},
   "source": [
    "# Maximum reviews which year for any drug"
   ]
  },
  {
   "cell_type": "code",
   "execution_count": 56,
   "metadata": {},
   "outputs": [
    {
     "data": {
      "text/plain": [
       "<matplotlib.axes._subplots.AxesSubplot at 0x7f8362802400>"
      ]
     },
     "execution_count": 56,
     "metadata": {},
     "output_type": "execute_result"
    },
    {
     "data": {
      "image/png": "[encoded data removed]",
      "text/plain": [
       "<Figure size 432x288 with 1 Axes>"
      ]
     },
     "metadata": {},
     "output_type": "display_data"
    }
   ],
   "source": [
    "chosen_nonull_drugs_noreview.date.value_counts().sort_index().plot()"
   ]
  },
  {
   "cell_type": "code",
   "execution_count": 87,
   "metadata": {},
   "outputs": [],
   "source": [
    "chosen_Clonazepam_drug = chosen_nonull_drugs_noreview.loc[chosen_nonull_drugs_noreview['drugName'] == 'Clonazepam']\n",
    "# chosen_Clonazepam_drug"
   ]
  },
  {
   "cell_type": "code",
   "execution_count": 135,
   "metadata": {},
   "outputs": [
    {
     "data": {
      "text/html": [
       "<div>\n",
       "<style scoped>\n",
       "    .dataframe tbody tr th:only-of-type {\n",
       "        vertical-align: middle;\n",
       "    }\n",
       "\n",
       "    .dataframe tbody tr th {\n",
       "        vertical-align: top;\n",
       "    }\n",
       "\n",
       "    .dataframe thead th {\n",
       "        text-align: right;\n",
       "    }\n",
       "</style>\n",
       "<table border=\"1\" class=\"dataframe\">\n",
       "  <thead>\n",
       "    <tr style=\"text-align: right;\">\n",
       "      <th></th>\n",
       "      <th>drugName</th>\n",
       "      <th>condition</th>\n",
       "      <th>rating</th>\n",
       "      <th>date</th>\n",
       "      <th>usefulCount</th>\n",
       "      <th>sex</th>\n",
       "    </tr>\n",
       "  </thead>\n",
       "  <tbody>\n",
       "    <tr>\n",
       "      <th>173398</th>\n",
       "      <td>Clonazepam</td>\n",
       "      <td>Panic Disorde</td>\n",
       "      <td>9</td>\n",
       "      <td>2008-04-01</td>\n",
       "      <td>30</td>\n",
       "      <td>Male</td>\n",
       "    </tr>\n",
       "    <tr>\n",
       "      <th>225508</th>\n",
       "      <td>Bupropion</td>\n",
       "      <td>Smoking Cessation</td>\n",
       "      <td>10</td>\n",
       "      <td>2014-08-22</td>\n",
       "      <td>15</td>\n",
       "      <td>Neutral</td>\n",
       "    </tr>\n",
       "    <tr>\n",
       "      <th>225257</th>\n",
       "      <td>Bupropion</td>\n",
       "      <td>Depression</td>\n",
       "      <td>4</td>\n",
       "      <td>2015-10-08</td>\n",
       "      <td>0</td>\n",
       "      <td>Neutral</td>\n",
       "    </tr>\n",
       "    <tr>\n",
       "      <th>31040</th>\n",
       "      <td>Miconazole</td>\n",
       "      <td>Vaginal Yeast Infection</td>\n",
       "      <td>1</td>\n",
       "      <td>2017-01-31</td>\n",
       "      <td>6</td>\n",
       "      <td>Neutral</td>\n",
       "    </tr>\n",
       "    <tr>\n",
       "      <th>224842</th>\n",
       "      <td>Bupropion</td>\n",
       "      <td>Depression</td>\n",
       "      <td>10</td>\n",
       "      <td>2017-01-02</td>\n",
       "      <td>14</td>\n",
       "      <td>Male</td>\n",
       "    </tr>\n",
       "  </tbody>\n",
       "</table>\n",
       "</div>"
      ],
      "text/plain": [
       "          drugName                condition  rating       date  usefulCount  \\\n",
       "173398  Clonazepam            Panic Disorde       9 2008-04-01           30   \n",
       "225508   Bupropion        Smoking Cessation      10 2014-08-22           15   \n",
       "225257   Bupropion               Depression       4 2015-10-08            0   \n",
       "31040   Miconazole  Vaginal Yeast Infection       1 2017-01-31            6   \n",
       "224842   Bupropion               Depression      10 2017-01-02           14   \n",
       "\n",
       "            sex  \n",
       "173398     Male  \n",
       "225508  Neutral  \n",
       "225257  Neutral  \n",
       "31040   Neutral  \n",
       "224842     Male  "
      ]
     },
     "execution_count": 135,
     "metadata": {},
     "output_type": "execute_result"
    }
   ],
   "source": [
    "# chosen_nonull_drugs_noreview.loc[chosen_nonull_drugs_noreview['drugName'] == 'Quetiapine']\n",
    "# chosen_nonull_drugs_noreview.condition.value_counts()\n",
    "chosen_nonull_drugs_noreview.head()"
   ]
  },
  {
   "cell_type": "markdown",
   "metadata": {},
   "source": [
    "# The drugs present are: 'Gabapentin', 'Miconazole', 'Bupropion', 'Metronidazole', 'Clonazepam', 'Quetiapine'"
   ]
  },
  {
   "cell_type": "code",
   "execution_count": 119,
   "metadata": {},
   "outputs": [],
   "source": [
    "# chosen_Clonazepam_drug.date.value_counts().sort_index()"
   ]
  },
  {
   "cell_type": "code",
   "execution_count": 80,
   "metadata": {},
   "outputs": [
    {
     "data": {
      "text/plain": [
       "<matplotlib.axes._subplots.AxesSubplot at 0x7f83625bb5f8>"
      ]
     },
     "execution_count": 80,
     "metadata": {},
     "output_type": "execute_result"
    },
    {
     "data": {
      "image/png": "[encoded data removed]",
      "text/plain": [
       "<Figure size 432x288 with 1 Axes>"
      ]
     },
     "metadata": {},
     "output_type": "display_data"
    }
   ],
   "source": [
    "# chosen_Clonazepam_drug['Year'] = chosen_Clonazepam_drug.date.dt.year\n",
    "# chosen_Clonazepam_drug.head()\n",
    "# chosen_Clonazepam_drug.loc[(chosen_Clonazepam_drug.rating.index),'Year'] = chosen_Clonazepam_drug.date.dt.year\n",
    "# input_data_EDA.loc[(input_data_EDA.review.index),'sex'] = result\n",
    "chosen_Clonazepam_drug.date.dt.year.value_counts().sort_index().plot()"
   ]
  },
  {
   "cell_type": "code",
   "execution_count": 86,
   "metadata": {},
   "outputs": [
    {
     "data": {
      "text/plain": [
       "date\n",
       "2008    8.851064\n",
       "2009    8.647059\n",
       "2010    9.428571\n",
       "2011    8.600000\n",
       "2012    8.877551\n",
       "2013    9.012821\n",
       "2014    9.197674\n",
       "2015    8.743243\n",
       "2016    7.700000\n",
       "2017    7.980952\n",
       "Name: rating, dtype: float64"
      ]
     },
     "execution_count": 86,
     "metadata": {},
     "output_type": "execute_result"
    }
   ],
   "source": [
    "chosen_Clonazepam_drug.groupby(chosen_Clonazepam_drug.date.dt.year).rating.mean()"
   ]
  },
  {
   "cell_type": "markdown",
   "metadata": {},
   "source": [
    "# Avg rating of drug Clonazepam over the time"
   ]
  },
  {
   "cell_type": "code",
   "execution_count": 89,
   "metadata": {},
   "outputs": [
    {
     "data": {
      "text/plain": [
       "Text(0.5,1,'Clonazepam Performance')"
      ]
     },
     "execution_count": 89,
     "metadata": {},
     "output_type": "execute_result"
    },
    {
     "data": {
      "image/png": "[encoded data removed]",
      "text/plain": [
       "<Figure size 432x288 with 1 Axes>"
      ]
     },
     "metadata": {},
     "output_type": "display_data"
    }
   ],
   "source": [
    "chosen_Clonazepam_drug.groupby(chosen_Clonazepam_drug.date.dt.year).rating.mean().plot()\n",
    "plt.xlabel('Date')\n",
    "plt.ylabel('Avg Rating')\n",
    "plt.title('Clonazepam Performance')"
   ]
  },
  {
   "cell_type": "code",
   "execution_count": 90,
   "metadata": {},
   "outputs": [],
   "source": [
    "# plt.plot(chosen_Clonazepam_drug.date.dt.year.value_counts(),chosen_Clonazepam_drug.rating,label='Drug Performance')\n",
    "# plt.xlabel('Date')\n",
    "# plt.ylabel('Rating')\n",
    "# plt.title('Clonazepam Performance')\n",
    "\n",
    "# plt.legend()\n",
    "# plt.show()\n"
   ]
  },
  {
   "cell_type": "code",
   "execution_count": null,
   "metadata": {},
   "outputs": [],
   "source": [
    "# TODO STEPS:\n",
    "# 1.CONVERT DATE TO INT FOR PLOT - (DONE)\n",
    "# 2.CONVERT OTHER COLUMNS TO INT THEN PLOT for a \"particular drug\" how the \"rating\" has been over \"time(date)\" - (DONE)\n",
    "# 3.divide the dataset into test and training set crossvalidation\n",
    "# 4.run kmeans, super learner"
   ]
  },
  {
   "cell_type": "code",
   "execution_count": null,
   "metadata": {},
   "outputs": [],
   "source": [
    "from sklearn.model_selection import train_test_split\n",
    "X_train, X_test, y_train, y_test = train_test_split(\n",
    "    data.data, data.target, test_size=.4, stratify=data.target, random_state=0)"
   ]
  },
  {
   "cell_type": "code",
   "execution_count": 23,
   "metadata": {},
   "outputs": [],
   "source": [
    "def handle_non_numerical_data(df):\n",
    "    columns = df.columns.values\n",
    "    \n",
    "    for column in columns:\n",
    "        text_digit_vals = {}\n",
    "        def convert_to_int(val):\n",
    "            return text_digit_vals[val]\n",
    "        if df[column].dtype != np.int64 and df[column].dtype != np.float64:\n",
    "            column_contents = df[column].values.tolist()\n",
    "            unique_elements = set(column_contents)\n",
    "            x = 0\n",
    "            for unique in unique_elements:\n",
    "                if unique not in text_digit_vals:\n",
    "                    text_digit_vals[unique] = x\n",
    "                    x+=1\n",
    "            df[column] = list(map(convert_to_int,df[column]))\n",
    "    return df"
   ]
  },
  {
   "cell_type": "code",
   "execution_count": 140,
   "metadata": {},
   "outputs": [],
   "source": [
    "# chosendrugs_nonull_numeric = handle_non_numerical_data(chosen_nonull_drugs)\n",
    "# print(chosen_nonull_drugs.head())\n",
    "# handle_non_numerical_data(chosen_nonull_drugs)\n",
    "# chosen_nonull_drugs"
   ]
  },
  {
   "cell_type": "markdown",
   "metadata": {},
   "source": [
    "# Reported disease occurences over time"
   ]
  },
  {
   "cell_type": "code",
   "execution_count": 143,
   "metadata": {},
   "outputs": [
    {
     "data": {
      "text/plain": [
       "Text(0.5,1,'Reported disease occurences over time')"
      ]
     },
     "execution_count": 143,
     "metadata": {},
     "output_type": "execute_result"
    },
    {
     "data": {
      "image/png": "[encoded data removed]",
      "text/plain": [
       "<Figure size 432x288 with 1 Axes>"
      ]
     },
     "metadata": {},
     "output_type": "display_data"
    }
   ],
   "source": [
    "# plt.plot(chosen_nonull_drugs_noreview.date.dt.year.value_counts(),chosendrugs_nonull_numeric.condition,label='Drug Performance')\n",
    "# plt.xlabel('Date')\n",
    "# plt.ylabel('Condition')\n",
    "# plt.title('Reported disease occurences over time')\n",
    "\n",
    "# plt.legend()\n",
    "# plt.show()\n",
    "chosendrugs_nonull_numeric.groupby(chosen_nonull_drugs_noreview.date.dt.year).condition.mean().plot()\n",
    "plt.xlabel('Date')\n",
    "plt.ylabel('Conditions')\n",
    "plt.legend()\n",
    "plt.title('Reported disease occurences over time')"
   ]
  },
  {
   "cell_type": "code",
   "execution_count": null,
   "metadata": {},
   "outputs": [],
   "source": []
  },
  {
   "cell_type": "code",
   "execution_count": 21,
   "metadata": {},
   "outputs": [],
   "source": [
    "# df=pd.read_csv(r'C:\\Users\\Guest1\\Desktop\\ML Project\\drugsComTrain_raw.tsv', sep = '\\t', engine='python')\n",
    "# df.head(10)\n",
    "# #df = df.drop(df.columns[[0]], axis=1)\n",
    "# #df = df.dropna(axis=0, how='any', thresh=None, subset=None, inplace=False)\n",
    "# df.head()\n",
    "\n",
    "# #1 star reviews\n",
    "# rating_1 = df['rating']==1.0\n",
    "# #print(rating_1.head()) #shows boolean value for if rating is 1\n",
    "# df_r1 = df[rating_1]\n",
    "# #print(df_r1.shape) #21619 rows\n",
    "# #print(df_r1.head())\n",
    "\n",
    "# rating_2 = df['rating']==2.0\n",
    "# df_r2 = df[rating_2]\n",
    "\n",
    "# rating_3 = df['rating']==3.0\n",
    "# df_r3 = df[rating_3]\n",
    "\n",
    "# rating_4 = df['rating']==4.0\n",
    "# df_r4 = df[rating_4]\n",
    "\n",
    "# rating_5 = df['rating']==5.0\n",
    "# df_r5 = df[rating_5]\n",
    "\n",
    "# rating_6 = df['rating']==6.0\n",
    "# df_r6 = df[rating_6]\n",
    "\n",
    "# rating_7 = df['rating']==7.0\n",
    "# df_r7 = df[rating_7]\n",
    "\n",
    "# rating_8= df['rating']==8.0\n",
    "# df_r8 = df[rating_8]\n",
    "\n",
    "# rating_9 = df['rating']==9.0\n",
    "# df_r9 = df[rating_9]\n",
    "\n",
    "# rating_10 = df['rating']==10.0\n",
    "# df_r10 = df[rating_10]\n",
    "\n",
    "# rate_list = [(len(df_r1)), (len(df_r2)), (len(df_r3)), (len(df_r4)), (len(df_r5)), (len(df_r6)), (len(df_r7)), (len(df_r8)), (len(df_r9)),(len(df_r10))]\n",
    "\n",
    "# print(df.shape)\n",
    "# print(df.head())\n",
    "# ids = df.iloc[:, 0]\n",
    "# uniqueids = ids.unique()\n",
    "# len(uniqueids)\n",
    "\n",
    "# rating_dict = {1: (len(df_r1)), 2: len(df_r2), 3: len(df_r3), 4: len(df_r4), 5: len(df_r5), 6: len(df_r6), 7: len(df_r7), 8: len(df_r8), 9: len(df_r9), 10: len(df_r10)}\n",
    "# ratingdf = pd.DataFrame(rating_dict, index=[0])\n",
    "# df.isnull().sum().sum()"
   ]
  },
  {
   "cell_type": "code",
   "execution_count": null,
   "metadata": {},
   "outputs": [],
   "source": []
  },
  {
   "cell_type": "code",
   "execution_count": null,
   "metadata": {},
   "outputs": [],
   "source": [
    "# date = df.iloc[:, 5]\n",
    "# df[date] = pd.to_datetime(df[date])"
   ]
  },
  {
   "cell_type": "code",
   "execution_count": null,
   "metadata": {},
   "outputs": [],
   "source": [
    "# from sklearn.decomposition import PCA\n",
    "# pca = PCA(n_components=5)\n",
    "# pca.fit(df)"
   ]
  },
  {
   "cell_type": "code",
   "execution_count": null,
   "metadata": {},
   "outputs": [],
   "source": [
    "# conditions = df.iloc[:, 2]\n",
    "# uniquecond = conditions.unique()\n",
    "# len(uniquecond) #884 dif conditions\n",
    "\n",
    "# grouped = df.groupby(['condition'])\n",
    "# grouped.describe()\n",
    "# #list(df.condition.value_counts())"
   ]
  },
  {
   "cell_type": "code",
   "execution_count": null,
   "metadata": {},
   "outputs": [],
   "source": [
    "# drugs = df.iloc[:, 1]\n",
    "# uniquedrug = drugs.unique()\n",
    "# len(uniquedrug) #3431 dif drugs\n",
    "\n",
    "# grouped_drug = df.groupby(['drugName'])\n",
    "# grouped_drug.describe()\n",
    "# druglist = list(df.drugName.value_counts())\n",
    "# grouped_drug.describe()\n",
    "# #max(druglist)"
   ]
  },
  {
   "cell_type": "code",
   "execution_count": null,
   "metadata": {},
   "outputs": [],
   "source": [
    "# male_comterms = ['son', 'husband', 'father', 'he', 'him', 'his', 'dad', 'male' ] #words in comments indicating male\n",
    "# male_diseaseterms = ['prostate', 'erectile', 'penis', 'penile', 'testicular', 'testicle']\n",
    "# female_comterms = ['daughter', 'wife', 'mother', 'mom', 'her', 'she', 'female']\n",
    "# female_diseaseterms = ['abortion', 'breast', 'birth', 'prenatal', 'postnatal', 'contraception', 'vaginal', 'vagina', 'ovary', 'ovarian', 'PCOS']\n",
    "\n",
    "\n",
    "# #list(df)\n",
    "\n",
    "# df.dtypes\n",
    "# df[\"review\"] = pd.Series.to_string(df[\"review\"])\n",
    "\n",
    "\n",
    "# # # df[\"sex\"] = np.where(df[\"review\"].isin(male_comterms),\"Male\",\"Female\")\n",
    "# # # df[\"review\"].str.match(lambda x: male_comterms[x])\n",
    "# # # (male_comterms)\n",
    "# # # print(males.shape)\n",
    "# df.head(100)"
   ]
  },
  {
   "cell_type": "code",
   "execution_count": null,
   "metadata": {},
   "outputs": [],
   "source": [
    "# df.dtypes"
   ]
  }
 ],
 "metadata": {
  "kernelspec": {
   "display_name": "Python 3",
   "language": "python",
   "name": "python3"
  },
  "language_info": {
   "codemirror_mode": {
    "name": "ipython",
    "version": 3
   },
   "file_extension": ".py",
   "mimetype": "text/x-python",
   "name": "python",
   "nbconvert_exporter": "python",
   "pygments_lexer": "ipython3",
   "version": "3.6.3"
  }
 },
 "nbformat": 4,
 "nbformat_minor": 2
}
