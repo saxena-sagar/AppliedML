{
 "cells": [
  {
   "cell_type": "code",
   "execution_count": 2,
   "metadata": {},
   "outputs": [],
   "source": [
    "import pandas as pd\n",
    "import numpy as np\n",
    "import matplotlib.pyplot as plt"
   ]
  },
  {
   "cell_type": "code",
   "execution_count": 3,
   "metadata": {},
   "outputs": [],
   "source": [
    "input_data = pd.read_csv(\"drugsComTrain_raw.tsv\", sep = '\\t')"
   ]
  },
  {
   "cell_type": "code",
   "execution_count": 4,
   "metadata": {},
   "outputs": [],
   "source": [
    "#input_data.head(5)\n",
    "# input_data.review[:2]"
   ]
  },
  {
   "cell_type": "code",
   "execution_count": 5,
   "metadata": {},
   "outputs": [],
   "source": [
    "# !pip3 install nltk"
   ]
  },
  {
   "cell_type": "code",
   "execution_count": 6,
   "metadata": {},
   "outputs": [],
   "source": [
    "import nltk\n",
    "from nltk.tokenize import word_tokenize\n",
    "\n",
    "male_comterms = ['has', 'son', 'husband', 'father', 'he', 'him', 'his', 'dad', 'male' ] #words in comments indicating male\n",
    "male_diseaseterms = ['prostate', 'erectile', 'penis', 'penile', 'testicular', 'testicle']\n",
    "female_comterms = ['daughter', 'wife', 'mother', 'mom', 'her', 'she', 'female']\n",
    "female_diseaseterms = ['abortion', 'breast', 'birth', 'prenatal', 'postnatal', 'contraception', 'contraceptive', 'vaginal', 'vagina', 'ovary', 'ovarian', 'PCOS']"
   ]
  },
  {
   "cell_type": "code",
   "execution_count": 12,
   "metadata": {},
   "outputs": [],
   "source": [
    "# input_data.drop(['sex'],axis=1)"
   ]
  },
  {
   "cell_type": "code",
   "execution_count": 9,
   "metadata": {},
   "outputs": [],
   "source": [
    "def label_sex(tokenized_words):\n",
    "        if any(elem in tokenized_words for elem in male_comterms):\n",
    "            return \"Male\"\n",
    "        if any(elem in tokenized_words for elem in male_diseaseterms):\n",
    "            return \"Male\"\n",
    "        if any(elem in tokenized_words for elem in female_comterms):\n",
    "            return \"Female\"\n",
    "        if any(elem in tokenized_words for elem in female_diseaseterms):\n",
    "            return \"Female\"\n",
    "        else:\n",
    "            return \"None\""
   ]
  },
  {
   "cell_type": "code",
   "execution_count": 10,
   "metadata": {},
   "outputs": [],
   "source": [
    "# input_data[\"sex\"] = np.where(label_sex(), 'Male', 'Female')  \n",
    "#     input_data.apply(lambda row: label_sex(row),axis=1)\n",
    "#     input_data[\"sex\"] = np.where((elem in words for elem in male_comterms),\"FeMale\",\"male\")\n",
    "#     if any(elem in words for elem in male_comterms):\n",
    "#     words in male_comterms:\n",
    "#         print('work')\n",
    "#     input_data[\"sex\"] = \n",
    "# for comment in input_data.review[:3]:\n",
    "#     tokenized_words = word_tokenize(comment)\n",
    "# input_data[\"sex\"] = np.where((elem in word_tokenize(comment) for comment in input_data.review[:3] for elem in male_comterms),\"Male\",\"Female\")\n",
    "result = []\n",
    "for comment in input_data.review:\n",
    "    words = word_tokenize(comment)\n",
    "    result.append(label_sex(words))\n",
    "\n",
    "df_result = pd.DataFrame(result,columns=['sex'])\n",
    "# result   np.in1d(df_result[\"Rvalue\"],'True')\n",
    "input_data = pd.concat([input_data,df_result], axis=1)"
   ]
  },
  {
   "cell_type": "code",
   "execution_count": 15,
   "metadata": {},
   "outputs": [],
   "source": [
    "chosen_drugs = input_data[input_data.drugName.isin(['levonorgestrel', 'etonogestrel', 'phentermine', 'sertraline', 'Gabapentin', 'Miconazole', 'Bupropion', 'Metronidazole', 'Clonazepam', 'Quetiapine'])]\n",
    "# for x in np.nditer(result):\n",
    "#     print(result)\n",
    "# (x for x in np.nditer(result)\n",
    "# df_result"
   ]
  },
  {
   "cell_type": "code",
   "execution_count": 40,
   "metadata": {},
   "outputs": [],
   "source": [
    "#Deleting the drug-id\n",
    "# chosen_drugs = chosen_drugs.drop(['Unnamed: 0'],axis=1)\n",
    "totalNo_NaNs_Condition = chosen_drugs.isnull().sum()#In total 29 NaNs are present for just the 'condition'\n",
    "indexOfNaNs_Condition = list(chosen_drugs.isnull().index)\n",
    "Total_NaNs = len(indexOfNaNs_Condition)#5653 total NaNs"
   ]
  },
  {
   "cell_type": "code",
   "execution_count": 47,
   "metadata": {},
   "outputs": [
    {
     "data": {
      "text/plain": [
       "Index(['drugName', 'condition', 'review', 'rating', 'date', 'usefulCount',\n",
       "       'sex'],\n",
       "      dtype='object')"
      ]
     },
     "execution_count": 47,
     "metadata": {},
     "output_type": "execute_result"
    }
   ],
   "source": [
    "chosen_drugs.columns"
   ]
  },
  {
   "cell_type": "code",
   "execution_count": 53,
   "metadata": {},
   "outputs": [
    {
     "data": {
      "text/plain": [
       "29"
      ]
     },
     "execution_count": 53,
     "metadata": {},
     "output_type": "execute_result"
    }
   ],
   "source": [
    "chosen_drugs.condition.isnull().sum()"
   ]
  },
  {
   "cell_type": "code",
   "execution_count": 21,
   "metadata": {},
   "outputs": [],
   "source": [
    "# df=pd.read_csv(r'C:\\Users\\Guest1\\Desktop\\ML Project\\drugsComTrain_raw.tsv', sep = '\\t', engine='python')\n",
    "# df.head(10)\n",
    "# #df = df.drop(df.columns[[0]], axis=1)\n",
    "# #df = df.dropna(axis=0, how='any', thresh=None, subset=None, inplace=False)\n",
    "# df.head()\n",
    "\n",
    "# #1 star reviews\n",
    "# rating_1 = df['rating']==1.0\n",
    "# #print(rating_1.head()) #shows boolean value for if rating is 1\n",
    "# df_r1 = df[rating_1]\n",
    "# #print(df_r1.shape) #21619 rows\n",
    "# #print(df_r1.head())\n",
    "\n",
    "# rating_2 = df['rating']==2.0\n",
    "# df_r2 = df[rating_2]\n",
    "\n",
    "# rating_3 = df['rating']==3.0\n",
    "# df_r3 = df[rating_3]\n",
    "\n",
    "# rating_4 = df['rating']==4.0\n",
    "# df_r4 = df[rating_4]\n",
    "\n",
    "# rating_5 = df['rating']==5.0\n",
    "# df_r5 = df[rating_5]\n",
    "\n",
    "# rating_6 = df['rating']==6.0\n",
    "# df_r6 = df[rating_6]\n",
    "\n",
    "# rating_7 = df['rating']==7.0\n",
    "# df_r7 = df[rating_7]\n",
    "\n",
    "# rating_8= df['rating']==8.0\n",
    "# df_r8 = df[rating_8]\n",
    "\n",
    "# rating_9 = df['rating']==9.0\n",
    "# df_r9 = df[rating_9]\n",
    "\n",
    "# rating_10 = df['rating']==10.0\n",
    "# df_r10 = df[rating_10]\n",
    "\n",
    "# rate_list = [(len(df_r1)), (len(df_r2)), (len(df_r3)), (len(df_r4)), (len(df_r5)), (len(df_r6)), (len(df_r7)), (len(df_r8)), (len(df_r9)),(len(df_r10))]\n",
    "\n",
    "# print(df.shape)\n",
    "# print(df.head())\n",
    "# ids = df.iloc[:, 0]\n",
    "# uniqueids = ids.unique()\n",
    "# len(uniqueids)\n",
    "\n",
    "# rating_dict = {1: (len(df_r1)), 2: len(df_r2), 3: len(df_r3), 4: len(df_r4), 5: len(df_r5), 6: len(df_r6), 7: len(df_r7), 8: len(df_r8), 9: len(df_r9), 10: len(df_r10)}\n",
    "# ratingdf = pd.DataFrame(rating_dict, index=[0])\n",
    "# df.isnull().sum().sum()"
   ]
  },
  {
   "cell_type": "code",
   "execution_count": null,
   "metadata": {},
   "outputs": [],
   "source": []
  },
  {
   "cell_type": "code",
   "execution_count": null,
   "metadata": {},
   "outputs": [],
   "source": [
    "# date = df.iloc[:, 5]\n",
    "# df[date] = pd.to_datetime(df[date])"
   ]
  },
  {
   "cell_type": "code",
   "execution_count": null,
   "metadata": {},
   "outputs": [],
   "source": [
    "# from sklearn.decomposition import PCA\n",
    "# pca = PCA(n_components=5)\n",
    "# pca.fit(df)"
   ]
  },
  {
   "cell_type": "code",
   "execution_count": null,
   "metadata": {},
   "outputs": [],
   "source": [
    "# conditions = df.iloc[:, 2]\n",
    "# uniquecond = conditions.unique()\n",
    "# len(uniquecond) #884 dif conditions\n",
    "\n",
    "# grouped = df.groupby(['condition'])\n",
    "# grouped.describe()\n",
    "# #list(df.condition.value_counts())"
   ]
  },
  {
   "cell_type": "code",
   "execution_count": null,
   "metadata": {},
   "outputs": [],
   "source": [
    "# drugs = df.iloc[:, 1]\n",
    "# uniquedrug = drugs.unique()\n",
    "# len(uniquedrug) #3431 dif drugs\n",
    "\n",
    "# grouped_drug = df.groupby(['drugName'])\n",
    "# grouped_drug.describe()\n",
    "# druglist = list(df.drugName.value_counts())\n",
    "# grouped_drug.describe()\n",
    "# #max(druglist)"
   ]
  },
  {
   "cell_type": "code",
   "execution_count": null,
   "metadata": {},
   "outputs": [],
   "source": [
    "# male_comterms = ['son', 'husband', 'father', 'he', 'him', 'his', 'dad', 'male' ] #words in comments indicating male\n",
    "# male_diseaseterms = ['prostate', 'erectile', 'penis', 'penile', 'testicular', 'testicle']\n",
    "# female_comterms = ['daughter', 'wife', 'mother', 'mom', 'her', 'she', 'female']\n",
    "# female_diseaseterms = ['abortion', 'breast', 'birth', 'prenatal', 'postnatal', 'contraception', 'vaginal', 'vagina', 'ovary', 'ovarian', 'PCOS']\n",
    "\n",
    "\n",
    "# #list(df)\n",
    "\n",
    "# df.dtypes\n",
    "# df[\"review\"] = pd.Series.to_string(df[\"review\"])\n",
    "\n",
    "\n",
    "# # # df[\"sex\"] = np.where(df[\"review\"].isin(male_comterms),\"Male\",\"Female\")\n",
    "# # # df[\"review\"].str.match(lambda x: male_comterms[x])\n",
    "# # # (male_comterms)\n",
    "# # # print(males.shape)\n",
    "# df.head(100)"
   ]
  },
  {
   "cell_type": "code",
   "execution_count": null,
   "metadata": {},
   "outputs": [],
   "source": [
    "# df.dtypes"
   ]
  }
 ],
 "metadata": {
  "kernelspec": {
   "display_name": "Python 3",
   "language": "python",
   "name": "python3"
  },
  "language_info": {
   "codemirror_mode": {
    "name": "ipython",
    "version": 3
   },
   "file_extension": ".py",
   "mimetype": "text/x-python",
   "name": "python",
   "nbconvert_exporter": "python",
   "pygments_lexer": "ipython3",
   "version": "3.6.3"
  }
 },
 "nbformat": 4,
 "nbformat_minor": 2
}
